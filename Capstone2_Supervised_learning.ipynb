{
 "cells": [
  {
   "cell_type": "markdown",
   "metadata": {},
   "source": [
    "***Cyber Security Breaches Data***"
   ]
  },
  {
   "cell_type": "code",
   "execution_count": 1,
   "metadata": {},
   "outputs": [
    {
     "name": "stdout",
     "output_type": "stream",
     "text": [
      "Requirement already satisfied: scikit-optimize in /opt/anaconda3/lib/python3.8/site-packages (0.8.1)\n",
      "Requirement already satisfied: pyaml>=16.9 in /opt/anaconda3/lib/python3.8/site-packages (from scikit-optimize) (20.4.0)\n",
      "Requirement already satisfied: joblib>=0.11 in /opt/anaconda3/lib/python3.8/site-packages (from scikit-optimize) (0.16.0)\n",
      "Requirement already satisfied: numpy>=1.13.3 in /opt/anaconda3/lib/python3.8/site-packages (from scikit-optimize) (1.18.5)\n",
      "Requirement already satisfied: scipy>=0.19.1 in /opt/anaconda3/lib/python3.8/site-packages (from scikit-optimize) (1.5.0)\n",
      "Requirement already satisfied: scikit-learn>=0.20.0 in /opt/anaconda3/lib/python3.8/site-packages (from scikit-optimize) (0.23.1)\n",
      "Requirement already satisfied: PyYAML in /opt/anaconda3/lib/python3.8/site-packages (from pyaml>=16.9->scikit-optimize) (5.3.1)\n",
      "Requirement already satisfied: threadpoolctl>=2.0.0 in /opt/anaconda3/lib/python3.8/site-packages (from scikit-learn>=0.20.0->scikit-optimize) (2.1.0)\n"
     ]
    }
   ],
   "source": [
    "! pip install scikit-optimize"
   ]
  },
  {
   "cell_type": "code",
   "execution_count": 2,
   "metadata": {},
   "outputs": [],
   "source": [
    "%matplotlib inline\n",
    "\n",
    "import pandas as pd\n",
    "import matplotlib.pyplot as plt\n",
    "import numpy as np\n",
    "import seaborn as sns\n",
    "from datetime import datetime\n",
    "import time"
   ]
  },
  {
   "cell_type": "markdown",
   "metadata": {},
   "source": [
    "Now imagine that I am a data scientist wanting to make a model prediction for a company indicating if a cyber security breach will be a labeled as a type of theft or a different type of breach.\n",
    "\n",
    "First I will load and read the data, then proceed to create three different models. After deciding which model is best for the data, I will then modify the model to produce the best prediction results."
   ]
  },
  {
   "cell_type": "code",
   "execution_count": 3,
   "metadata": {
    "scrolled": true
   },
   "outputs": [
    {
     "name": "stdout",
     "output_type": "stream",
     "text": [
      "(1055, 14)\n"
     ]
    },
    {
     "data": {
      "text/html": [
       "<div>\n",
       "<style scoped>\n",
       "    .dataframe tbody tr th:only-of-type {\n",
       "        vertical-align: middle;\n",
       "    }\n",
       "\n",
       "    .dataframe tbody tr th {\n",
       "        vertical-align: top;\n",
       "    }\n",
       "\n",
       "    .dataframe thead th {\n",
       "        text-align: right;\n",
       "    }\n",
       "</style>\n",
       "<table border=\"1\" class=\"dataframe\">\n",
       "  <thead>\n",
       "    <tr style=\"text-align: right;\">\n",
       "      <th></th>\n",
       "      <th>Unnamed: 0</th>\n",
       "      <th>Number</th>\n",
       "      <th>Name_of_Covered_Entity</th>\n",
       "      <th>State</th>\n",
       "      <th>Business_Associate_Involved</th>\n",
       "      <th>Individuals_Affected</th>\n",
       "      <th>Date_of_Breach</th>\n",
       "      <th>Type_of_Breach</th>\n",
       "      <th>Location_of_Breached_Information</th>\n",
       "      <th>Date_Posted_or_Updated</th>\n",
       "      <th>Summary</th>\n",
       "      <th>breach_start</th>\n",
       "      <th>breach_end</th>\n",
       "      <th>year</th>\n",
       "    </tr>\n",
       "  </thead>\n",
       "  <tbody>\n",
       "    <tr>\n",
       "      <th>0</th>\n",
       "      <td>1</td>\n",
       "      <td>0</td>\n",
       "      <td>Brooke Army Medical Center</td>\n",
       "      <td>TX</td>\n",
       "      <td>NaN</td>\n",
       "      <td>1000</td>\n",
       "      <td>10/16/2009</td>\n",
       "      <td>Theft</td>\n",
       "      <td>Paper</td>\n",
       "      <td>2014-06-30</td>\n",
       "      <td>A binder containing the protected health infor...</td>\n",
       "      <td>2009-10-16</td>\n",
       "      <td>NaN</td>\n",
       "      <td>2009</td>\n",
       "    </tr>\n",
       "    <tr>\n",
       "      <th>1</th>\n",
       "      <td>2</td>\n",
       "      <td>1</td>\n",
       "      <td>Mid America Kidney Stone Association, LLC</td>\n",
       "      <td>MO</td>\n",
       "      <td>NaN</td>\n",
       "      <td>1000</td>\n",
       "      <td>9/22/2009</td>\n",
       "      <td>Theft</td>\n",
       "      <td>Network Server</td>\n",
       "      <td>2014-05-30</td>\n",
       "      <td>Five desktop computers containing unencrypted ...</td>\n",
       "      <td>2009-09-22</td>\n",
       "      <td>NaN</td>\n",
       "      <td>2009</td>\n",
       "    </tr>\n",
       "    <tr>\n",
       "      <th>2</th>\n",
       "      <td>3</td>\n",
       "      <td>2</td>\n",
       "      <td>Alaska Department of Health and Social Services</td>\n",
       "      <td>AK</td>\n",
       "      <td>NaN</td>\n",
       "      <td>501</td>\n",
       "      <td>10/12/2009</td>\n",
       "      <td>Theft</td>\n",
       "      <td>Other Portable Electronic Device, Other</td>\n",
       "      <td>2014-01-23</td>\n",
       "      <td>NaN</td>\n",
       "      <td>2009-10-12</td>\n",
       "      <td>NaN</td>\n",
       "      <td>2009</td>\n",
       "    </tr>\n",
       "    <tr>\n",
       "      <th>3</th>\n",
       "      <td>4</td>\n",
       "      <td>3</td>\n",
       "      <td>Health Services for Children with Special Need...</td>\n",
       "      <td>DC</td>\n",
       "      <td>NaN</td>\n",
       "      <td>3800</td>\n",
       "      <td>10/9/2009</td>\n",
       "      <td>Loss</td>\n",
       "      <td>Laptop</td>\n",
       "      <td>2014-01-23</td>\n",
       "      <td>A laptop was lost by an employee while in tran...</td>\n",
       "      <td>2009-10-09</td>\n",
       "      <td>NaN</td>\n",
       "      <td>2009</td>\n",
       "    </tr>\n",
       "    <tr>\n",
       "      <th>4</th>\n",
       "      <td>5</td>\n",
       "      <td>4</td>\n",
       "      <td>L. Douglas Carlson, M.D.</td>\n",
       "      <td>CA</td>\n",
       "      <td>NaN</td>\n",
       "      <td>5257</td>\n",
       "      <td>9/27/2009</td>\n",
       "      <td>Theft</td>\n",
       "      <td>Desktop Computer</td>\n",
       "      <td>2014-01-23</td>\n",
       "      <td>A shared Computer that was used for backup was...</td>\n",
       "      <td>2009-09-27</td>\n",
       "      <td>NaN</td>\n",
       "      <td>2009</td>\n",
       "    </tr>\n",
       "  </tbody>\n",
       "</table>\n",
       "</div>"
      ],
      "text/plain": [
       "   Unnamed: 0  Number                             Name_of_Covered_Entity  \\\n",
       "0           1       0                         Brooke Army Medical Center   \n",
       "1           2       1          Mid America Kidney Stone Association, LLC   \n",
       "2           3       2    Alaska Department of Health and Social Services   \n",
       "3           4       3  Health Services for Children with Special Need...   \n",
       "4           5       4                           L. Douglas Carlson, M.D.   \n",
       "\n",
       "  State Business_Associate_Involved  Individuals_Affected Date_of_Breach  \\\n",
       "0    TX                         NaN                  1000     10/16/2009   \n",
       "1    MO                         NaN                  1000      9/22/2009   \n",
       "2    AK                         NaN                   501     10/12/2009   \n",
       "3    DC                         NaN                  3800      10/9/2009   \n",
       "4    CA                         NaN                  5257      9/27/2009   \n",
       "\n",
       "  Type_of_Breach         Location_of_Breached_Information  \\\n",
       "0          Theft                                    Paper   \n",
       "1          Theft                           Network Server   \n",
       "2          Theft  Other Portable Electronic Device, Other   \n",
       "3           Loss                                   Laptop   \n",
       "4          Theft                         Desktop Computer   \n",
       "\n",
       "  Date_Posted_or_Updated                                            Summary  \\\n",
       "0             2014-06-30  A binder containing the protected health infor...   \n",
       "1             2014-05-30  Five desktop computers containing unencrypted ...   \n",
       "2             2014-01-23                                                NaN   \n",
       "3             2014-01-23  A laptop was lost by an employee while in tran...   \n",
       "4             2014-01-23  A shared Computer that was used for backup was...   \n",
       "\n",
       "  breach_start breach_end  year  \n",
       "0   2009-10-16        NaN  2009  \n",
       "1   2009-09-22        NaN  2009  \n",
       "2   2009-10-12        NaN  2009  \n",
       "3   2009-10-09        NaN  2009  \n",
       "4   2009-09-27        NaN  2009  "
      ]
     },
     "execution_count": 3,
     "metadata": {},
     "output_type": "execute_result"
    }
   ],
   "source": [
    "#read the data and show the shape and some of the values\n",
    "cyber = pd.read_csv('../../Downloads/Cyber Security Breaches.csv')\n",
    "print(cyber.shape)\n",
    "cyber.head()"
   ]
  },
  {
   "cell_type": "code",
   "execution_count": 4,
   "metadata": {},
   "outputs": [
    {
     "name": "stdout",
     "output_type": "stream",
     "text": [
      "<class 'pandas.core.frame.DataFrame'>\n",
      "RangeIndex: 1055 entries, 0 to 1054\n",
      "Data columns (total 13 columns):\n",
      " #   Column                            Non-Null Count  Dtype \n",
      "---  ------                            --------------  ----- \n",
      " 0   number                            1055 non-null   int64 \n",
      " 1   Name_of_Covered_Entity            1055 non-null   object\n",
      " 2   State                             1055 non-null   object\n",
      " 3   Business_Associate_Involved       271 non-null    object\n",
      " 4   Individuals_Affected              1055 non-null   int64 \n",
      " 5   Date_of_Breach                    1055 non-null   object\n",
      " 6   Type_of_Breach                    1055 non-null   object\n",
      " 7   Location_of_Breached_Information  1055 non-null   object\n",
      " 8   Date_Posted_or_Updated            1055 non-null   object\n",
      " 9   Summary                           142 non-null    object\n",
      " 10  breach_start                      1055 non-null   object\n",
      " 11  breach_end                        145 non-null    object\n",
      " 12  year                              1055 non-null   int64 \n",
      "dtypes: int64(3), object(10)\n",
      "memory usage: 107.3+ KB\n"
     ]
    }
   ],
   "source": [
    "#change the \"unnamed\" column\n",
    "cyber = cyber.rename(columns={'Unnamed: 0': 'number'})\n",
    "\n",
    "#drop the \"Number\" column \n",
    "cyber.drop(['Number'], axis=1, inplace=True)\n",
    "cyber.info()"
   ]
  },
  {
   "cell_type": "markdown",
   "metadata": {},
   "source": [
    "***Exploratory Data Analysis***\n",
    "\n",
    "*Cleaning the dataset for optimal features*"
   ]
  },
  {
   "cell_type": "code",
   "execution_count": 5,
   "metadata": {},
   "outputs": [
    {
     "name": "stdout",
     "output_type": "stream",
     "text": [
      "<class 'pandas.core.frame.DataFrame'>\n",
      "RangeIndex: 1055 entries, 0 to 1054\n",
      "Data columns (total 10 columns):\n",
      " #   Column                            Non-Null Count  Dtype \n",
      "---  ------                            --------------  ----- \n",
      " 0   number                            1055 non-null   int64 \n",
      " 1   Name_of_Covered_Entity            1055 non-null   object\n",
      " 2   State                             1055 non-null   object\n",
      " 3   Individuals_Affected              1055 non-null   int64 \n",
      " 4   Date_of_Breach                    1055 non-null   object\n",
      " 5   Type_of_Breach                    1055 non-null   object\n",
      " 6   Location_of_Breached_Information  1055 non-null   object\n",
      " 7   Date_Posted_or_Updated            1055 non-null   object\n",
      " 8   breach_start                      1055 non-null   object\n",
      " 9   year                              1055 non-null   int64 \n",
      "dtypes: int64(3), object(7)\n",
      "memory usage: 82.5+ KB\n"
     ]
    }
   ],
   "source": [
    "#dropping the columns with too many nulls\n",
    "#from .info() shows 3 columns with missing data\n",
    "cyber.drop(['Business_Associate_Involved', 'Summary', 'breach_end'], axis=1, inplace=True)\n",
    "cyber.info()\n",
    "\n",
    "#now no missing data"
   ]
  },
  {
   "cell_type": "code",
   "execution_count": 6,
   "metadata": {},
   "outputs": [],
   "source": [
    "#column \"breach_start\" = date so change from object dtype\n",
    "#change dtype to datetime\n",
    "cyber['breach_start'] = pd.to_datetime(cyber['breach_start'])"
   ]
  },
  {
   "cell_type": "code",
   "execution_count": 7,
   "metadata": {},
   "outputs": [
    {
     "name": "stdout",
     "output_type": "stream",
     "text": [
      "<class 'pandas.core.frame.DataFrame'>\n",
      "RangeIndex: 1055 entries, 0 to 1054\n",
      "Data columns (total 11 columns):\n",
      " #   Column                            Non-Null Count  Dtype \n",
      "---  ------                            --------------  ----- \n",
      " 0   number                            1055 non-null   int64 \n",
      " 1   Name_of_Covered_Entity            1055 non-null   object\n",
      " 2   State                             1055 non-null   object\n",
      " 3   Individuals_Affected              1055 non-null   int64 \n",
      " 4   Date_of_Breach                    1055 non-null   object\n",
      " 5   Type_of_Breach                    1055 non-null   object\n",
      " 6   Location_of_Breached_Information  1055 non-null   object\n",
      " 7   Date_Posted_or_Updated            1055 non-null   object\n",
      " 8   year                              1055 non-null   int64 \n",
      " 9   breach_month                      1055 non-null   int64 \n",
      " 10  breach_day                        1055 non-null   int64 \n",
      "dtypes: int64(5), object(6)\n",
      "memory usage: 90.8+ KB\n"
     ]
    }
   ],
   "source": [
    "#extracting the day and month numeric values from breach_start\n",
    "cyber['breach_month'] = pd.DatetimeIndex(cyber['breach_start']).month\n",
    "cyber['breach_day'] = pd.DatetimeIndex(cyber['breach_start']).day\n",
    "\n",
    "#delete breach_start\n",
    "cyber.drop(['breach_start'], axis=1, inplace=True)\n",
    "cyber.info()"
   ]
  },
  {
   "cell_type": "code",
   "execution_count": 8,
   "metadata": {},
   "outputs": [
    {
     "name": "stdout",
     "output_type": "stream",
     "text": [
      "<class 'pandas.core.frame.DataFrame'>\n",
      "RangeIndex: 1055 entries, 0 to 1054\n",
      "Data columns (total 6 columns):\n",
      " #   Column                            Non-Null Count  Dtype \n",
      "---  ------                            --------------  ----- \n",
      " 0   Individuals_Affected              1055 non-null   int64 \n",
      " 1   Type_of_Breach                    1055 non-null   object\n",
      " 2   Location_of_Breached_Information  1055 non-null   object\n",
      " 3   year                              1055 non-null   int64 \n",
      " 4   breach_month                      1055 non-null   int64 \n",
      " 5   breach_day                        1055 non-null   int64 \n",
      "dtypes: int64(4), object(2)\n",
      "memory usage: 49.6+ KB\n"
     ]
    }
   ],
   "source": [
    "#drop non-essential/repeated columns\n",
    "cyber = cyber.drop(['number', 'Name_of_Covered_Entity', 'Date_of_Breach', 'State',\n",
    "                     'Date_Posted_or_Updated'], axis=1)\n",
    "cyber.info()"
   ]
  },
  {
   "cell_type": "code",
   "execution_count": 9,
   "metadata": {},
   "outputs": [
    {
     "data": {
      "text/plain": [
       "41"
      ]
     },
     "execution_count": 9,
     "metadata": {},
     "output_type": "execute_result"
    }
   ],
   "source": [
    "#check on counts for object columns\n",
    "cyber.Location_of_Breached_Information.nunique()"
   ]
  },
  {
   "cell_type": "code",
   "execution_count": 10,
   "metadata": {},
   "outputs": [
    {
     "data": {
      "text/plain": [
       "Paper                                                                                                                          227\n",
       "Laptop                                                                                                                         217\n",
       "Other                                                                                                                          116\n",
       "Desktop Computer                                                                                                               113\n",
       "Network Server                                                                                                                 107\n",
       "Other Portable Electronic Device                                                                                                60\n",
       "E-mail                                                                                                                          54\n",
       "Other Portable Electronic Device, Other                                                                                         53\n",
       "Electronic Medical Record                                                                                                       21\n",
       "Laptop, Desktop Computer                                                                                                         8\n",
       "Desktop Computer, Network Server                                                                                                 8\n",
       "Laptop, Other Portable Electronic Device                                                                                         7\n",
       "Laptop, Desktop Computer, Network Server, E-mail                                                                                 6\n",
       "Laptop, Desktop Computer, Other Portable Electronic Device                                                                       5\n",
       "Desktop Computer, Paper                                                                                                          5\n",
       "Laptop, Paper                                                                                                                    5\n",
       "Electronic Medical Record, Paper                                                                                                 5\n",
       "Other, Paper                                                                                                                     4\n",
       "Other, Electronic Medical Record                                                                                                 3\n",
       "Desktop Computer, E-mail                                                                                                         3\n",
       "Desktop Computer, Other                                                                                                          2\n",
       "Other Portable Electronic Device, Other, Electronic Medical Record                                                               2\n",
       "E-mail, Other Portable Electronic Device                                                                                         2\n",
       "Laptop, Network Server                                                                                                           2\n",
       "Network Server, E-mail                                                                                                           2\n",
       "Desktop Computer, Electronic Medical Record                                                                                      2\n",
       "Network Server, Electronic Medical Record                                                                                        2\n",
       "Desktop Computer, Network Server, Other Portable Electronic Device, Other                                                        1\n",
       "Laptop, Network Server, E-mail                                                                                                   1\n",
       "E-mail, Other                                                                                                                    1\n",
       "Laptop, Desktop Computer, Other Portable Electronic Device, Other                                                                1\n",
       "Laptop, Other Portable Electronic Device, Paper                                                                                  1\n",
       "Network Server, Other                                                                                                            1\n",
       "Laptop, Desktop Computer, Network Server, E-mail, Other Portable Electronic Device, Other, Electronic Medical Record, Paper      1\n",
       "Laptop, Electronic Medical Record                                                                                                1\n",
       "Desktop Computer, Other Portable Electronic Device                                                                               1\n",
       "Laptop, E-mail, Other Portable Electronic Device                                                                                 1\n",
       "Desktop Computer, Other Portable Electronic Device, Other                                                                        1\n",
       "Desktop Computer, Network Server, Electronic Medical Record                                                                      1\n",
       "Laptop, Desktop Computer, Network Server, E-mail, Other Portable Electronic Device, Other, Electronic Medical Record             1\n",
       "Desktop Computer, Network Server, E-mail, Electronic Medical Record, Paper                                                       1\n",
       "Name: Location_of_Breached_Information, dtype: int64"
      ]
     },
     "execution_count": 10,
     "metadata": {},
     "output_type": "execute_result"
    }
   ],
   "source": [
    "cyber.Location_of_Breached_Information.value_counts()"
   ]
  },
  {
   "cell_type": "code",
   "execution_count": 11,
   "metadata": {},
   "outputs": [
    {
     "data": {
      "text/plain": [
       "(1055, 47)"
      ]
     },
     "execution_count": 11,
     "metadata": {},
     "output_type": "execute_result"
    }
   ],
   "source": [
    "#turn object dtype into dummy column for model\n",
    "#do not use drop_first=True --- will drop columns later\n",
    "location = pd.get_dummies(cyber['Location_of_Breached_Information'])\n",
    "cyber = pd.concat([cyber, location], axis=1)\n",
    "cyber.shape"
   ]
  },
  {
   "cell_type": "code",
   "execution_count": 12,
   "metadata": {},
   "outputs": [],
   "source": [
    "#the outlier values from the original column drop those dummy columns\n",
    "value_counts = cyber.Location_of_Breached_Information.value_counts()\n",
    "to_remove = value_counts[value_counts <= 20].index\n",
    "cyber = cyber.drop(to_remove, axis=1)"
   ]
  },
  {
   "cell_type": "code",
   "execution_count": 13,
   "metadata": {},
   "outputs": [
    {
     "name": "stdout",
     "output_type": "stream",
     "text": [
      "<class 'pandas.core.frame.DataFrame'>\n",
      "RangeIndex: 1055 entries, 0 to 1054\n",
      "Data columns (total 15 columns):\n",
      " #   Column                                   Non-Null Count  Dtype \n",
      "---  ------                                   --------------  ----- \n",
      " 0   Individuals_Affected                     1055 non-null   int64 \n",
      " 1   Type_of_Breach                           1055 non-null   object\n",
      " 2   Location_of_Breached_Information         1055 non-null   object\n",
      " 3   year                                     1055 non-null   int64 \n",
      " 4   breach_month                             1055 non-null   int64 \n",
      " 5   breach_day                               1055 non-null   int64 \n",
      " 6   Desktop Computer                         1055 non-null   uint8 \n",
      " 7   E-mail                                   1055 non-null   uint8 \n",
      " 8   Electronic Medical Record                1055 non-null   uint8 \n",
      " 9   Laptop                                   1055 non-null   uint8 \n",
      " 10  Network Server                           1055 non-null   uint8 \n",
      " 11  Other                                    1055 non-null   uint8 \n",
      " 12  Other Portable Electronic Device         1055 non-null   uint8 \n",
      " 13  Other Portable Electronic Device, Other  1055 non-null   uint8 \n",
      " 14  Paper                                    1055 non-null   uint8 \n",
      "dtypes: int64(4), object(2), uint8(9)\n",
      "memory usage: 58.9+ KB\n"
     ]
    },
    {
     "data": {
      "text/html": [
       "<div>\n",
       "<style scoped>\n",
       "    .dataframe tbody tr th:only-of-type {\n",
       "        vertical-align: middle;\n",
       "    }\n",
       "\n",
       "    .dataframe tbody tr th {\n",
       "        vertical-align: top;\n",
       "    }\n",
       "\n",
       "    .dataframe thead th {\n",
       "        text-align: right;\n",
       "    }\n",
       "</style>\n",
       "<table border=\"1\" class=\"dataframe\">\n",
       "  <thead>\n",
       "    <tr style=\"text-align: right;\">\n",
       "      <th></th>\n",
       "      <th>Individuals_Affected</th>\n",
       "      <th>Type_of_Breach</th>\n",
       "      <th>Location_of_Breached_Information</th>\n",
       "      <th>year</th>\n",
       "      <th>breach_month</th>\n",
       "      <th>breach_day</th>\n",
       "      <th>Desktop Computer</th>\n",
       "      <th>E-mail</th>\n",
       "      <th>Electronic Medical Record</th>\n",
       "      <th>Laptop</th>\n",
       "      <th>Network Server</th>\n",
       "      <th>Other</th>\n",
       "      <th>Other Portable Electronic Device</th>\n",
       "      <th>Other Portable Electronic Device, Other</th>\n",
       "      <th>Paper</th>\n",
       "    </tr>\n",
       "  </thead>\n",
       "  <tbody>\n",
       "    <tr>\n",
       "      <th>0</th>\n",
       "      <td>1000</td>\n",
       "      <td>Theft</td>\n",
       "      <td>Paper</td>\n",
       "      <td>2009</td>\n",
       "      <td>10</td>\n",
       "      <td>16</td>\n",
       "      <td>0</td>\n",
       "      <td>0</td>\n",
       "      <td>0</td>\n",
       "      <td>0</td>\n",
       "      <td>0</td>\n",
       "      <td>0</td>\n",
       "      <td>0</td>\n",
       "      <td>0</td>\n",
       "      <td>1</td>\n",
       "    </tr>\n",
       "    <tr>\n",
       "      <th>1</th>\n",
       "      <td>1000</td>\n",
       "      <td>Theft</td>\n",
       "      <td>Network Server</td>\n",
       "      <td>2009</td>\n",
       "      <td>9</td>\n",
       "      <td>22</td>\n",
       "      <td>0</td>\n",
       "      <td>0</td>\n",
       "      <td>0</td>\n",
       "      <td>0</td>\n",
       "      <td>1</td>\n",
       "      <td>0</td>\n",
       "      <td>0</td>\n",
       "      <td>0</td>\n",
       "      <td>0</td>\n",
       "    </tr>\n",
       "    <tr>\n",
       "      <th>2</th>\n",
       "      <td>501</td>\n",
       "      <td>Theft</td>\n",
       "      <td>Other Portable Electronic Device, Other</td>\n",
       "      <td>2009</td>\n",
       "      <td>10</td>\n",
       "      <td>12</td>\n",
       "      <td>0</td>\n",
       "      <td>0</td>\n",
       "      <td>0</td>\n",
       "      <td>0</td>\n",
       "      <td>0</td>\n",
       "      <td>0</td>\n",
       "      <td>0</td>\n",
       "      <td>1</td>\n",
       "      <td>0</td>\n",
       "    </tr>\n",
       "    <tr>\n",
       "      <th>3</th>\n",
       "      <td>3800</td>\n",
       "      <td>Loss</td>\n",
       "      <td>Laptop</td>\n",
       "      <td>2009</td>\n",
       "      <td>10</td>\n",
       "      <td>9</td>\n",
       "      <td>0</td>\n",
       "      <td>0</td>\n",
       "      <td>0</td>\n",
       "      <td>1</td>\n",
       "      <td>0</td>\n",
       "      <td>0</td>\n",
       "      <td>0</td>\n",
       "      <td>0</td>\n",
       "      <td>0</td>\n",
       "    </tr>\n",
       "    <tr>\n",
       "      <th>4</th>\n",
       "      <td>5257</td>\n",
       "      <td>Theft</td>\n",
       "      <td>Desktop Computer</td>\n",
       "      <td>2009</td>\n",
       "      <td>9</td>\n",
       "      <td>27</td>\n",
       "      <td>1</td>\n",
       "      <td>0</td>\n",
       "      <td>0</td>\n",
       "      <td>0</td>\n",
       "      <td>0</td>\n",
       "      <td>0</td>\n",
       "      <td>0</td>\n",
       "      <td>0</td>\n",
       "      <td>0</td>\n",
       "    </tr>\n",
       "  </tbody>\n",
       "</table>\n",
       "</div>"
      ],
      "text/plain": [
       "   Individuals_Affected Type_of_Breach  \\\n",
       "0                  1000          Theft   \n",
       "1                  1000          Theft   \n",
       "2                   501          Theft   \n",
       "3                  3800           Loss   \n",
       "4                  5257          Theft   \n",
       "\n",
       "          Location_of_Breached_Information  year  breach_month  breach_day  \\\n",
       "0                                    Paper  2009            10          16   \n",
       "1                           Network Server  2009             9          22   \n",
       "2  Other Portable Electronic Device, Other  2009            10          12   \n",
       "3                                   Laptop  2009            10           9   \n",
       "4                         Desktop Computer  2009             9          27   \n",
       "\n",
       "   Desktop Computer  E-mail  Electronic Medical Record  Laptop  \\\n",
       "0                 0       0                          0       0   \n",
       "1                 0       0                          0       0   \n",
       "2                 0       0                          0       0   \n",
       "3                 0       0                          0       1   \n",
       "4                 1       0                          0       0   \n",
       "\n",
       "   Network Server  Other  Other Portable Electronic Device  \\\n",
       "0               0      0                                 0   \n",
       "1               1      0                                 0   \n",
       "2               0      0                                 0   \n",
       "3               0      0                                 0   \n",
       "4               0      0                                 0   \n",
       "\n",
       "   Other Portable Electronic Device, Other  Paper  \n",
       "0                                        0      1  \n",
       "1                                        0      0  \n",
       "2                                        1      0  \n",
       "3                                        0      0  \n",
       "4                                        0      0  "
      ]
     },
     "execution_count": 13,
     "metadata": {},
     "output_type": "execute_result"
    }
   ],
   "source": [
    "cyber.info()\n",
    "cyber.head()\n",
    "\n",
    "#now if row shows 0 in all dummy columns, means (1) in a dropped column (outlier)"
   ]
  },
  {
   "cell_type": "markdown",
   "metadata": {},
   "source": [
    "***Creating independent variable***\n",
    "\n",
    "The column \"Type_of_Breach is a categorical column with several values that needs to be changed into a binary column (True or 1 **AND** False or 0) for model predictions to work on dataset. \n",
    "\n",
    "*this will be my target variable*"
   ]
  },
  {
   "cell_type": "code",
   "execution_count": 14,
   "metadata": {},
   "outputs": [
    {
     "data": {
      "text/plain": [
       "Theft                                                         516\n",
       "Unauthorized Access/Disclosure                                148\n",
       "Other                                                          91\n",
       "Loss                                                           85\n",
       "Hacking/IT Incident                                            75\n",
       "Improper Disposal                                              38\n",
       "Theft, Unauthorized Access/Disclosure                          26\n",
       "Theft, Loss                                                    15\n",
       "Unknown                                                        10\n",
       "Unauthorized Access/Disclosure, Hacking/IT Incident             9\n",
       "Unauthorized Access/Disclosure, Other                           8\n",
       "Theft, Other                                                    5\n",
       "Loss, Unauthorized Access/Disclosure                            5\n",
       "Loss, Improper Disposal                                         3\n",
       "Theft, Unauthorized Access/Disclosure, Hacking/IT Incident      3\n",
       "Unknown, Other                                                  2\n",
       "Loss, Other                                                     2\n",
       "Unauthorized Access/Disclosure                                  2\n",
       "Loss, Unknown                                                   2\n",
       "Theft, Loss, Other                                              1\n",
       "Loss, Unauthorized Access/Disclosure, Unknown                   1\n",
       "Theft, Hacking/IT Incident                                      1\n",
       "Theft, Improper Disposal, Unauthorized Access/Disclosure        1\n",
       "Theft, Unauthorized Access/Disclosure, Other                    1\n",
       "Improper Disposal, Unauthorized Access/Disclosure               1\n",
       "Theft, Loss, Improper Disposal                                  1\n",
       "Unauthorized Access/Disclosure, Hacking/IT Incident, Other      1\n",
       "Hacking/IT Incident, Other                                      1\n",
       "Theft, Loss, Unauthorized Access/Disclosure, Unknown            1\n",
       "Name: Type_of_Breach, dtype: int64"
      ]
     },
     "execution_count": 14,
     "metadata": {},
     "output_type": "execute_result"
    }
   ],
   "source": [
    "cyber.Type_of_Breach.value_counts()"
   ]
  },
  {
   "cell_type": "code",
   "execution_count": 15,
   "metadata": {},
   "outputs": [],
   "source": [
    "#changing column to Theft: True or False\n",
    "#every value that contains the word \"theft\" will be grouped together\n",
    "cyber['Theft'] = cyber['Type_of_Breach'].str.lower().str.contains('theft') "
   ]
  },
  {
   "cell_type": "code",
   "execution_count": 16,
   "metadata": {},
   "outputs": [
    {
     "data": {
      "text/plain": [
       "True     571\n",
       "False    484\n",
       "Name: Theft, dtype: int64"
      ]
     },
     "execution_count": 16,
     "metadata": {},
     "output_type": "execute_result"
    }
   ],
   "source": [
    "#check if column is split to True and False and \n",
    "# if value counts are not too marginally different\n",
    "cyber.Theft.value_counts()\n",
    "\n",
    "#not exactly equal but difference is not substantial"
   ]
  },
  {
   "cell_type": "code",
   "execution_count": 17,
   "metadata": {},
   "outputs": [
    {
     "name": "stdout",
     "output_type": "stream",
     "text": [
      "<class 'pandas.core.frame.DataFrame'>\n",
      "RangeIndex: 1055 entries, 0 to 1054\n",
      "Data columns (total 16 columns):\n",
      " #   Column                                   Non-Null Count  Dtype \n",
      "---  ------                                   --------------  ----- \n",
      " 0   Individuals_Affected                     1055 non-null   int64 \n",
      " 1   Type_of_Breach                           1055 non-null   object\n",
      " 2   Location_of_Breached_Information         1055 non-null   object\n",
      " 3   year                                     1055 non-null   int64 \n",
      " 4   breach_month                             1055 non-null   int64 \n",
      " 5   breach_day                               1055 non-null   int64 \n",
      " 6   Desktop Computer                         1055 non-null   uint8 \n",
      " 7   E-mail                                   1055 non-null   uint8 \n",
      " 8   Electronic Medical Record                1055 non-null   uint8 \n",
      " 9   Laptop                                   1055 non-null   uint8 \n",
      " 10  Network Server                           1055 non-null   uint8 \n",
      " 11  Other                                    1055 non-null   uint8 \n",
      " 12  Other Portable Electronic Device         1055 non-null   uint8 \n",
      " 13  Other Portable Electronic Device, Other  1055 non-null   uint8 \n",
      " 14  Paper                                    1055 non-null   uint8 \n",
      " 15  Theft                                    1055 non-null   bool  \n",
      "dtypes: bool(1), int64(4), object(2), uint8(9)\n",
      "memory usage: 59.9+ KB\n"
     ]
    }
   ],
   "source": [
    "cyber.info()\n",
    "\n",
    "#now all my feature columns are numeric types\n",
    "# I have 13 feature variables "
   ]
  },
  {
   "cell_type": "code",
   "execution_count": 18,
   "metadata": {},
   "outputs": [
    {
     "data": {
      "text/html": [
       "<div>\n",
       "<style scoped>\n",
       "    .dataframe tbody tr th:only-of-type {\n",
       "        vertical-align: middle;\n",
       "    }\n",
       "\n",
       "    .dataframe tbody tr th {\n",
       "        vertical-align: top;\n",
       "    }\n",
       "\n",
       "    .dataframe thead th {\n",
       "        text-align: right;\n",
       "    }\n",
       "</style>\n",
       "<table border=\"1\" class=\"dataframe\">\n",
       "  <thead>\n",
       "    <tr style=\"text-align: right;\">\n",
       "      <th></th>\n",
       "      <th>Individuals_Affected</th>\n",
       "      <th>Type_of_Breach</th>\n",
       "      <th>Location_of_Breached_Information</th>\n",
       "      <th>year</th>\n",
       "      <th>breach_month</th>\n",
       "      <th>breach_day</th>\n",
       "      <th>Desktop Computer</th>\n",
       "      <th>E-mail</th>\n",
       "      <th>Electronic Medical Record</th>\n",
       "      <th>Laptop</th>\n",
       "      <th>Network Server</th>\n",
       "      <th>Other</th>\n",
       "      <th>Other Portable Electronic Device</th>\n",
       "      <th>Other Portable Electronic Device, Other</th>\n",
       "      <th>Paper</th>\n",
       "      <th>Theft</th>\n",
       "    </tr>\n",
       "  </thead>\n",
       "  <tbody>\n",
       "    <tr>\n",
       "      <th>0</th>\n",
       "      <td>1000</td>\n",
       "      <td>Theft</td>\n",
       "      <td>Paper</td>\n",
       "      <td>2009</td>\n",
       "      <td>10</td>\n",
       "      <td>16</td>\n",
       "      <td>0</td>\n",
       "      <td>0</td>\n",
       "      <td>0</td>\n",
       "      <td>0</td>\n",
       "      <td>0</td>\n",
       "      <td>0</td>\n",
       "      <td>0</td>\n",
       "      <td>0</td>\n",
       "      <td>1</td>\n",
       "      <td>True</td>\n",
       "    </tr>\n",
       "    <tr>\n",
       "      <th>1</th>\n",
       "      <td>1000</td>\n",
       "      <td>Theft</td>\n",
       "      <td>Network Server</td>\n",
       "      <td>2009</td>\n",
       "      <td>9</td>\n",
       "      <td>22</td>\n",
       "      <td>0</td>\n",
       "      <td>0</td>\n",
       "      <td>0</td>\n",
       "      <td>0</td>\n",
       "      <td>1</td>\n",
       "      <td>0</td>\n",
       "      <td>0</td>\n",
       "      <td>0</td>\n",
       "      <td>0</td>\n",
       "      <td>True</td>\n",
       "    </tr>\n",
       "    <tr>\n",
       "      <th>2</th>\n",
       "      <td>501</td>\n",
       "      <td>Theft</td>\n",
       "      <td>Other Portable Electronic Device, Other</td>\n",
       "      <td>2009</td>\n",
       "      <td>10</td>\n",
       "      <td>12</td>\n",
       "      <td>0</td>\n",
       "      <td>0</td>\n",
       "      <td>0</td>\n",
       "      <td>0</td>\n",
       "      <td>0</td>\n",
       "      <td>0</td>\n",
       "      <td>0</td>\n",
       "      <td>1</td>\n",
       "      <td>0</td>\n",
       "      <td>True</td>\n",
       "    </tr>\n",
       "    <tr>\n",
       "      <th>3</th>\n",
       "      <td>3800</td>\n",
       "      <td>Loss</td>\n",
       "      <td>Laptop</td>\n",
       "      <td>2009</td>\n",
       "      <td>10</td>\n",
       "      <td>9</td>\n",
       "      <td>0</td>\n",
       "      <td>0</td>\n",
       "      <td>0</td>\n",
       "      <td>1</td>\n",
       "      <td>0</td>\n",
       "      <td>0</td>\n",
       "      <td>0</td>\n",
       "      <td>0</td>\n",
       "      <td>0</td>\n",
       "      <td>False</td>\n",
       "    </tr>\n",
       "    <tr>\n",
       "      <th>4</th>\n",
       "      <td>5257</td>\n",
       "      <td>Theft</td>\n",
       "      <td>Desktop Computer</td>\n",
       "      <td>2009</td>\n",
       "      <td>9</td>\n",
       "      <td>27</td>\n",
       "      <td>1</td>\n",
       "      <td>0</td>\n",
       "      <td>0</td>\n",
       "      <td>0</td>\n",
       "      <td>0</td>\n",
       "      <td>0</td>\n",
       "      <td>0</td>\n",
       "      <td>0</td>\n",
       "      <td>0</td>\n",
       "      <td>True</td>\n",
       "    </tr>\n",
       "  </tbody>\n",
       "</table>\n",
       "</div>"
      ],
      "text/plain": [
       "   Individuals_Affected Type_of_Breach  \\\n",
       "0                  1000          Theft   \n",
       "1                  1000          Theft   \n",
       "2                   501          Theft   \n",
       "3                  3800           Loss   \n",
       "4                  5257          Theft   \n",
       "\n",
       "          Location_of_Breached_Information  year  breach_month  breach_day  \\\n",
       "0                                    Paper  2009            10          16   \n",
       "1                           Network Server  2009             9          22   \n",
       "2  Other Portable Electronic Device, Other  2009            10          12   \n",
       "3                                   Laptop  2009            10           9   \n",
       "4                         Desktop Computer  2009             9          27   \n",
       "\n",
       "   Desktop Computer  E-mail  Electronic Medical Record  Laptop  \\\n",
       "0                 0       0                          0       0   \n",
       "1                 0       0                          0       0   \n",
       "2                 0       0                          0       0   \n",
       "3                 0       0                          0       1   \n",
       "4                 1       0                          0       0   \n",
       "\n",
       "   Network Server  Other  Other Portable Electronic Device  \\\n",
       "0               0      0                                 0   \n",
       "1               1      0                                 0   \n",
       "2               0      0                                 0   \n",
       "3               0      0                                 0   \n",
       "4               0      0                                 0   \n",
       "\n",
       "   Other Portable Electronic Device, Other  Paper  Theft  \n",
       "0                                        0      1   True  \n",
       "1                                        0      0   True  \n",
       "2                                        1      0   True  \n",
       "3                                        0      0  False  \n",
       "4                                        0      0   True  "
      ]
     },
     "execution_count": 18,
     "metadata": {},
     "output_type": "execute_result"
    }
   ],
   "source": [
    "cyber.head()"
   ]
  },
  {
   "cell_type": "code",
   "execution_count": null,
   "metadata": {},
   "outputs": [],
   "source": []
  },
  {
   "cell_type": "markdown",
   "metadata": {},
   "source": [
    "***Splitting data for models***\n",
    "\n",
    "Now that my dataset is cleaned and contains an adequate amount of features, I can split my data into a train and test set and begin to create models"
   ]
  },
  {
   "cell_type": "code",
   "execution_count": 19,
   "metadata": {},
   "outputs": [],
   "source": [
    "from sklearn.model_selection import train_test_split\n",
    "\n",
    "X = cyber.drop(['Type_of_Breach', 'Location_of_Breached_Information', 'Theft'], axis=1)\n",
    "y = cyber['Theft']\n",
    "\n",
    "X_train, X_test, y_train, y_test = train_test_split(X, y, test_size=0.2)"
   ]
  },
  {
   "cell_type": "code",
   "execution_count": 20,
   "metadata": {},
   "outputs": [
    {
     "data": {
      "text/plain": [
       "((844, 13), (211, 13))"
      ]
     },
     "execution_count": 20,
     "metadata": {},
     "output_type": "execute_result"
    }
   ],
   "source": [
    "#how many values are in the train and test set\n",
    "X_train.shape, X_test.shape"
   ]
  },
  {
   "cell_type": "markdown",
   "metadata": {},
   "source": [
    "***Creating Models***\n",
    "\n",
    "*Classification model types*\n",
    "\n",
    "choosing 3 different models to compare"
   ]
  },
  {
   "cell_type": "code",
   "execution_count": 21,
   "metadata": {},
   "outputs": [],
   "source": [
    "#comparing models\n",
    "from sklearn.metrics import classification_report\n",
    "\n",
    "#function to easily compare models\n",
    "def results(model):\n",
    "    time_start = time.time()\n",
    "    print('Train Accuracy:', model.score(X_train, y_train), \n",
    "          '| Test Accuracy:', model.score(X_test, y_test), \n",
    "          '\\nExecution time: {} seconds'.format(time.time() - time_start))\n",
    "    y_train_pred = model.predict(X_train)\n",
    "    y_pred = model.predict(X_test)\n",
    "    print('-----Train----\\n', classification_report(y_train, y_train_pred))\n",
    "    print('-----Test-----\\n', classification_report(y_test, y_pred))\n",
    "    display(pd.crosstab(y_test, y_pred))"
   ]
  },
  {
   "cell_type": "code",
   "execution_count": 22,
   "metadata": {},
   "outputs": [
    {
     "data": {
      "text/plain": [
       "KNeighborsClassifier()"
      ]
     },
     "execution_count": 22,
     "metadata": {},
     "output_type": "execute_result"
    }
   ],
   "source": [
    "#first model = KNN\n",
    "from sklearn.neighbors import KNeighborsClassifier\n",
    "\n",
    "#use default settings for comparison \n",
    "#n_neighbors=5\n",
    "knn = KNeighborsClassifier()\n",
    "knn.fit(X_train, y_train)"
   ]
  },
  {
   "cell_type": "code",
   "execution_count": 24,
   "metadata": {},
   "outputs": [
    {
     "data": {
      "text/plain": [
       "RandomForestClassifier()"
      ]
     },
     "execution_count": 24,
     "metadata": {},
     "output_type": "execute_result"
    }
   ],
   "source": [
    "#second model = Random Forest\n",
    "from sklearn.ensemble import RandomForestClassifier\n",
    "\n",
    "#using default settings\n",
    "#max_depth=None --- uses as many trees as want to \n",
    "forest = RandomForestClassifier()\n",
    "forest.fit(X_train, y_train)\n"
   ]
  },
  {
   "cell_type": "code",
   "execution_count": 25,
   "metadata": {},
   "outputs": [
    {
     "data": {
      "text/plain": [
       "RandomForestClassifier(max_depth=10)"
      ]
     },
     "execution_count": 25,
     "metadata": {},
     "output_type": "execute_result"
    }
   ],
   "source": [
    "#RandomForest attempt 2\n",
    "#changing max_depth=10 so trees are have stopping point\n",
    "forest_d10 = RandomForestClassifier(max_depth=10)\n",
    "forest_d10.fit(X_train, y_train)"
   ]
  },
  {
   "cell_type": "code",
   "execution_count": 26,
   "metadata": {},
   "outputs": [
    {
     "data": {
      "text/plain": [
       "GradientBoostingClassifier()"
      ]
     },
     "execution_count": 26,
     "metadata": {},
     "output_type": "execute_result"
    }
   ],
   "source": [
    "#third model = gradient boosting\n",
    "from sklearn.ensemble import GradientBoostingClassifier\n",
    "\n",
    "#using default settings\n",
    "#LR=0.1, max_depth=3\n",
    "gbc = GradientBoostingClassifier()\n",
    "gbc.fit(X_train, y_train)"
   ]
  },
  {
   "cell_type": "markdown",
   "metadata": {},
   "source": [
    "*Comparison Results*"
   ]
  },
  {
   "cell_type": "code",
   "execution_count": 27,
   "metadata": {},
   "outputs": [
    {
     "name": "stdout",
     "output_type": "stream",
     "text": [
      "KNN model (default settings):\n",
      "Train Accuracy: 0.6812796208530806 | Test Accuracy: 0.5023696682464455 \n",
      "Execution time: 0.05639505386352539 seconds\n",
      "-----Train----\n",
      "               precision    recall  f1-score   support\n",
      "\n",
      "       False       0.68      0.60      0.64       393\n",
      "        True       0.68      0.76      0.72       451\n",
      "\n",
      "    accuracy                           0.68       844\n",
      "   macro avg       0.68      0.68      0.68       844\n",
      "weighted avg       0.68      0.68      0.68       844\n",
      "\n",
      "-----Test-----\n",
      "               precision    recall  f1-score   support\n",
      "\n",
      "       False       0.43      0.45      0.44        91\n",
      "        True       0.57      0.54      0.55       120\n",
      "\n",
      "    accuracy                           0.50       211\n",
      "   macro avg       0.50      0.50      0.50       211\n",
      "weighted avg       0.51      0.50      0.50       211\n",
      "\n"
     ]
    },
    {
     "data": {
      "text/html": [
       "<div>\n",
       "<style scoped>\n",
       "    .dataframe tbody tr th:only-of-type {\n",
       "        vertical-align: middle;\n",
       "    }\n",
       "\n",
       "    .dataframe tbody tr th {\n",
       "        vertical-align: top;\n",
       "    }\n",
       "\n",
       "    .dataframe thead th {\n",
       "        text-align: right;\n",
       "    }\n",
       "</style>\n",
       "<table border=\"1\" class=\"dataframe\">\n",
       "  <thead>\n",
       "    <tr style=\"text-align: right;\">\n",
       "      <th>col_0</th>\n",
       "      <th>False</th>\n",
       "      <th>True</th>\n",
       "    </tr>\n",
       "    <tr>\n",
       "      <th>Theft</th>\n",
       "      <th></th>\n",
       "      <th></th>\n",
       "    </tr>\n",
       "  </thead>\n",
       "  <tbody>\n",
       "    <tr>\n",
       "      <th>False</th>\n",
       "      <td>41</td>\n",
       "      <td>50</td>\n",
       "    </tr>\n",
       "    <tr>\n",
       "      <th>True</th>\n",
       "      <td>55</td>\n",
       "      <td>65</td>\n",
       "    </tr>\n",
       "  </tbody>\n",
       "</table>\n",
       "</div>"
      ],
      "text/plain": [
       "col_0  False  True \n",
       "Theft              \n",
       "False     41     50\n",
       "True      55     65"
      ]
     },
     "metadata": {},
     "output_type": "display_data"
    }
   ],
   "source": [
    "#results\n",
    "print('KNN model (default settings):')\n",
    "results(knn)"
   ]
  },
  {
   "cell_type": "code",
   "execution_count": 28,
   "metadata": {},
   "outputs": [
    {
     "name": "stdout",
     "output_type": "stream",
     "text": [
      "Random Forest model (default settings):\n",
      "Train Accuracy: 1.0 | Test Accuracy: 0.7298578199052133 \n",
      "Execution time: 0.0512537956237793 seconds\n",
      "-----Train----\n",
      "               precision    recall  f1-score   support\n",
      "\n",
      "       False       1.00      1.00      1.00       393\n",
      "        True       1.00      1.00      1.00       451\n",
      "\n",
      "    accuracy                           1.00       844\n",
      "   macro avg       1.00      1.00      1.00       844\n",
      "weighted avg       1.00      1.00      1.00       844\n",
      "\n",
      "-----Test-----\n",
      "               precision    recall  f1-score   support\n",
      "\n",
      "       False       0.66      0.78      0.71        91\n",
      "        True       0.81      0.69      0.74       120\n",
      "\n",
      "    accuracy                           0.73       211\n",
      "   macro avg       0.73      0.74      0.73       211\n",
      "weighted avg       0.74      0.73      0.73       211\n",
      "\n"
     ]
    },
    {
     "data": {
      "text/html": [
       "<div>\n",
       "<style scoped>\n",
       "    .dataframe tbody tr th:only-of-type {\n",
       "        vertical-align: middle;\n",
       "    }\n",
       "\n",
       "    .dataframe tbody tr th {\n",
       "        vertical-align: top;\n",
       "    }\n",
       "\n",
       "    .dataframe thead th {\n",
       "        text-align: right;\n",
       "    }\n",
       "</style>\n",
       "<table border=\"1\" class=\"dataframe\">\n",
       "  <thead>\n",
       "    <tr style=\"text-align: right;\">\n",
       "      <th>col_0</th>\n",
       "      <th>False</th>\n",
       "      <th>True</th>\n",
       "    </tr>\n",
       "    <tr>\n",
       "      <th>Theft</th>\n",
       "      <th></th>\n",
       "      <th></th>\n",
       "    </tr>\n",
       "  </thead>\n",
       "  <tbody>\n",
       "    <tr>\n",
       "      <th>False</th>\n",
       "      <td>71</td>\n",
       "      <td>20</td>\n",
       "    </tr>\n",
       "    <tr>\n",
       "      <th>True</th>\n",
       "      <td>37</td>\n",
       "      <td>83</td>\n",
       "    </tr>\n",
       "  </tbody>\n",
       "</table>\n",
       "</div>"
      ],
      "text/plain": [
       "col_0  False  True \n",
       "Theft              \n",
       "False     71     20\n",
       "True      37     83"
      ]
     },
     "metadata": {},
     "output_type": "display_data"
    }
   ],
   "source": [
    "#forest results\n",
    "print('Random Forest model (default settings):')\n",
    "results(forest)"
   ]
  },
  {
   "cell_type": "code",
   "execution_count": 29,
   "metadata": {},
   "outputs": [
    {
     "name": "stdout",
     "output_type": "stream",
     "text": [
      "Random Forest model (max_depth=10):\n",
      "Train Accuracy: 0.9395734597156398 | Test Accuracy: 0.7535545023696683 \n",
      "Execution time: 0.047835350036621094 seconds\n",
      "-----Train----\n",
      "               precision    recall  f1-score   support\n",
      "\n",
      "       False       0.95      0.92      0.93       393\n",
      "        True       0.93      0.96      0.94       451\n",
      "\n",
      "    accuracy                           0.94       844\n",
      "   macro avg       0.94      0.94      0.94       844\n",
      "weighted avg       0.94      0.94      0.94       844\n",
      "\n",
      "-----Test-----\n",
      "               precision    recall  f1-score   support\n",
      "\n",
      "       False       0.71      0.74      0.72        91\n",
      "        True       0.79      0.77      0.78       120\n",
      "\n",
      "    accuracy                           0.75       211\n",
      "   macro avg       0.75      0.75      0.75       211\n",
      "weighted avg       0.76      0.75      0.75       211\n",
      "\n"
     ]
    },
    {
     "data": {
      "text/html": [
       "<div>\n",
       "<style scoped>\n",
       "    .dataframe tbody tr th:only-of-type {\n",
       "        vertical-align: middle;\n",
       "    }\n",
       "\n",
       "    .dataframe tbody tr th {\n",
       "        vertical-align: top;\n",
       "    }\n",
       "\n",
       "    .dataframe thead th {\n",
       "        text-align: right;\n",
       "    }\n",
       "</style>\n",
       "<table border=\"1\" class=\"dataframe\">\n",
       "  <thead>\n",
       "    <tr style=\"text-align: right;\">\n",
       "      <th>col_0</th>\n",
       "      <th>False</th>\n",
       "      <th>True</th>\n",
       "    </tr>\n",
       "    <tr>\n",
       "      <th>Theft</th>\n",
       "      <th></th>\n",
       "      <th></th>\n",
       "    </tr>\n",
       "  </thead>\n",
       "  <tbody>\n",
       "    <tr>\n",
       "      <th>False</th>\n",
       "      <td>67</td>\n",
       "      <td>24</td>\n",
       "    </tr>\n",
       "    <tr>\n",
       "      <th>True</th>\n",
       "      <td>28</td>\n",
       "      <td>92</td>\n",
       "    </tr>\n",
       "  </tbody>\n",
       "</table>\n",
       "</div>"
      ],
      "text/plain": [
       "col_0  False  True \n",
       "Theft              \n",
       "False     67     24\n",
       "True      28     92"
      ]
     },
     "metadata": {},
     "output_type": "display_data"
    }
   ],
   "source": [
    "#forest attempt 2\n",
    "print('Random Forest model (max_depth=10):')\n",
    "results(forest_d10)"
   ]
  },
  {
   "cell_type": "code",
   "execution_count": 30,
   "metadata": {},
   "outputs": [
    {
     "name": "stdout",
     "output_type": "stream",
     "text": [
      "Gradient boosting model (default settings):\n",
      "Train Accuracy: 0.8199052132701422 | Test Accuracy: 0.7298578199052133 \n",
      "Execution time: 0.01669907569885254 seconds\n",
      "-----Train----\n",
      "               precision    recall  f1-score   support\n",
      "\n",
      "       False       0.79      0.83      0.81       393\n",
      "        True       0.85      0.81      0.83       451\n",
      "\n",
      "    accuracy                           0.82       844\n",
      "   macro avg       0.82      0.82      0.82       844\n",
      "weighted avg       0.82      0.82      0.82       844\n",
      "\n",
      "-----Test-----\n",
      "               precision    recall  f1-score   support\n",
      "\n",
      "       False       0.68      0.71      0.70        91\n",
      "        True       0.77      0.74      0.76       120\n",
      "\n",
      "    accuracy                           0.73       211\n",
      "   macro avg       0.73      0.73      0.73       211\n",
      "weighted avg       0.73      0.73      0.73       211\n",
      "\n"
     ]
    },
    {
     "data": {
      "text/html": [
       "<div>\n",
       "<style scoped>\n",
       "    .dataframe tbody tr th:only-of-type {\n",
       "        vertical-align: middle;\n",
       "    }\n",
       "\n",
       "    .dataframe tbody tr th {\n",
       "        vertical-align: top;\n",
       "    }\n",
       "\n",
       "    .dataframe thead th {\n",
       "        text-align: right;\n",
       "    }\n",
       "</style>\n",
       "<table border=\"1\" class=\"dataframe\">\n",
       "  <thead>\n",
       "    <tr style=\"text-align: right;\">\n",
       "      <th>col_0</th>\n",
       "      <th>False</th>\n",
       "      <th>True</th>\n",
       "    </tr>\n",
       "    <tr>\n",
       "      <th>Theft</th>\n",
       "      <th></th>\n",
       "      <th></th>\n",
       "    </tr>\n",
       "  </thead>\n",
       "  <tbody>\n",
       "    <tr>\n",
       "      <th>False</th>\n",
       "      <td>65</td>\n",
       "      <td>26</td>\n",
       "    </tr>\n",
       "    <tr>\n",
       "      <th>True</th>\n",
       "      <td>31</td>\n",
       "      <td>89</td>\n",
       "    </tr>\n",
       "  </tbody>\n",
       "</table>\n",
       "</div>"
      ],
      "text/plain": [
       "col_0  False  True \n",
       "Theft              \n",
       "False     65     26\n",
       "True      31     89"
      ]
     },
     "metadata": {},
     "output_type": "display_data"
    }
   ],
   "source": [
    "#boosting results\n",
    "print('Gradient boosting model (default settings):')\n",
    "results(gbc)"
   ]
  },
  {
   "cell_type": "markdown",
   "metadata": {},
   "source": [
    "Based off the comparison results between the 3 classification models (KNN, Random Forest, and Gradient Boosting), the best model for my predictions would be the Gradient Boosting model.\n",
    "The Gradient Boosting model was the fastest taking only 0.0166 seconds to produce compared to Random Forest (both) and KNN models that had execution times of 0.051 & 0.0478 (max_depth=10) seconds and 0.058 seconds, respectively. \n",
    "\n",
    "Even though the Random Forest had slightly better recall scores in the test set than the gradient model. The training sets have accuracy scores of 1.0 or 0.939, where as the test accuracy scores for both Random Forest models were 0.729 and 0.753. With the large difference between the train and test accuracy scores, the model is exhibiting overfitting quite a bit. The Random Forest model in general predicts better for current data and not as well as for new data, which poses a problem for future cyber security theft predictions.\n",
    "\n",
    "The KNN model had the lowest metric scores in between all 3 models. The train and test accuracy scores are 0.663 and 0.526, respectively. This tells me that the default model does not predict theft security breaches well in the train data and worse in the test data."
   ]
  },
  {
   "cell_type": "markdown",
   "metadata": {},
   "source": [
    "***Improving my best model***\n",
    "\n",
    "The scoring metric that I will look at closely will be the *Accuracy scores* between the train and test set and the *Recall scores*. I am looking for the best Accuracy scores with the least amount of difference between the 2 sets of data and the highest recall scores which gives the percentage of True numbers over the total of true plus false numbers.\n",
    "\n",
    "Initial CV searches"
   ]
  },
  {
   "cell_type": "code",
   "execution_count": 35,
   "metadata": {},
   "outputs": [],
   "source": [
    "#perform CV to search for best parameters\n",
    "\n",
    "#function for best_estimator results\n",
    "def search_results(grid):\n",
    "    time_start = time.time()\n",
    "    print('LR:', grid.best_estimator_.learning_rate, \n",
    "          '| depth:', grid.best_estimator_.max_depth, \n",
    "          '| subsample:', grid.best_estimator_.subsample, \n",
    "          '| max_features:', grid.best_estimator_.max_features, \n",
    "          '| trees:', grid.best_estimator_.n_estimators_,\n",
    "          '| loss:', grid.best_estimator_.loss,\n",
    "          '\\nExecution time: {} seconds'.format(time.time() - time_start))\n",
    "    print('Train Accuracy:', grid.score(X_train, y_train))\n",
    "    print('Test Accuracy:', grid.score(X_test, y_test))\n",
    "    y_train_pred = grid.predict(X_train)\n",
    "    y_pred = grid.predict(X_test)\n",
    "    print('-----Train----\\n', classification_report(y_train, y_train_pred))\n",
    "    print('-----Test----\\n', classification_report(y_test, y_pred))\n",
    "    display(pd.crosstab(y_test, y_pred))"
   ]
  },
  {
   "cell_type": "code",
   "execution_count": 32,
   "metadata": {},
   "outputs": [
    {
     "data": {
      "text/plain": [
       "BayesSearchCV(cv=5, estimator=GradientBoostingClassifier(n_iter_no_change=10),\n",
       "              n_jobs=2, scoring='recall_macro',\n",
       "              search_spaces={'learning_rate': Real(low=0.1, high=0.9, prior='uniform', transform='identity'),\n",
       "                             'loss': Categorical(categories=('deviance', 'exponential'), prior=None),\n",
       "                             'max_depth': Integer(low=2, high=12, prior='uniform', transform='identity'),\n",
       "                             'max_features': Categorical(categories=(None, 'sqrt', 0.75), prior=None),\n",
       "                             'subsample': Real(low=0.2, high=1.0, prior='uniform', transform='identity')})"
      ]
     },
     "execution_count": 32,
     "metadata": {},
     "output_type": "execute_result"
    }
   ],
   "source": [
    "#bayes search cv\n",
    "from skopt import BayesSearchCV\n",
    "from skopt.space import Real, Categorical, Integer\n",
    "\n",
    "parameters = {'learning_rate': Real(0.1, 0.9), \n",
    "              'max_depth': Integer(2, 12), \n",
    "              'subsample': Real(0.2, 1.0), \n",
    "              'max_features': Categorical([None, 'sqrt', 0.75]),\n",
    "              'loss': Categorical(['deviance', 'exponential'])}\n",
    "\n",
    "grad_bayes = BayesSearchCV(GradientBoostingClassifier(n_iter_no_change=10), parameters, cv=5, \n",
    "                           scoring='recall_macro', n_jobs=2)\n",
    "\n",
    "grad_bayes.fit(X_train, y_train)"
   ]
  },
  {
   "cell_type": "code",
   "execution_count": 33,
   "metadata": {},
   "outputs": [
    {
     "data": {
      "text/plain": [
       "GridSearchCV(cv=5, estimator=GradientBoostingClassifier(n_iter_no_change=10),\n",
       "             n_jobs=2,\n",
       "             param_grid={'learning_rate': [0.1, 0.3, 0.6, 0.9],\n",
       "                         'loss': ['deviance', 'exponential'],\n",
       "                         'max_depth': [2, 4, 8, 12],\n",
       "                         'max_features': [None, 'sqrt', 0.75],\n",
       "                         'subsample': [1.0, 0.8, 0.6, 0.2]},\n",
       "             scoring='recall_macro')"
      ]
     },
     "execution_count": 33,
     "metadata": {},
     "output_type": "execute_result"
    }
   ],
   "source": [
    "#grid search\n",
    "from sklearn.model_selection import GridSearchCV\n",
    "\n",
    "parameters = {'learning_rate':[0.1, 0.3, 0.6, 0.9], \n",
    "              'max_depth':[2, 4, 8, 12], \n",
    "              'subsample':[1.0, 0.8, 0.6, 0.2], \n",
    "              'max_features': [None, 'sqrt', 0.75], \n",
    "              'loss': ['deviance', 'exponential']}\n",
    "\n",
    "grad_grid = GridSearchCV(GradientBoostingClassifier(n_iter_no_change=10), parameters, cv=5, \n",
    "                         scoring='recall_macro', n_jobs=2)\n",
    "\n",
    "grad_grid.fit(X_train, y_train)"
   ]
  },
  {
   "cell_type": "markdown",
   "metadata": {},
   "source": [
    "*Comparing CV results*"
   ]
  },
  {
   "cell_type": "code",
   "execution_count": 36,
   "metadata": {},
   "outputs": [
    {
     "name": "stdout",
     "output_type": "stream",
     "text": [
      "LR: 0.1 | depth: 2 | subsample: 0.7361847566986355 | max_features: sqrt | trees: 32 | loss: exponential \n",
      "Execution time: 1.0013580322265625e-05 seconds\n",
      "Train Accuracy: 0.7334309394447172\n",
      "Test Accuracy: 0.7439102564102564\n",
      "-----Train----\n",
      "               precision    recall  f1-score   support\n",
      "\n",
      "       False       0.66      0.84      0.74       393\n",
      "        True       0.82      0.63      0.71       451\n",
      "\n",
      "    accuracy                           0.73       844\n",
      "   macro avg       0.74      0.73      0.73       844\n",
      "weighted avg       0.74      0.73      0.72       844\n",
      "\n",
      "-----Test----\n",
      "               precision    recall  f1-score   support\n",
      "\n",
      "       False       0.64      0.85      0.73        91\n",
      "        True       0.85      0.64      0.73       120\n",
      "\n",
      "    accuracy                           0.73       211\n",
      "   macro avg       0.74      0.74      0.73       211\n",
      "weighted avg       0.76      0.73      0.73       211\n",
      "\n"
     ]
    },
    {
     "data": {
      "text/html": [
       "<div>\n",
       "<style scoped>\n",
       "    .dataframe tbody tr th:only-of-type {\n",
       "        vertical-align: middle;\n",
       "    }\n",
       "\n",
       "    .dataframe tbody tr th {\n",
       "        vertical-align: top;\n",
       "    }\n",
       "\n",
       "    .dataframe thead th {\n",
       "        text-align: right;\n",
       "    }\n",
       "</style>\n",
       "<table border=\"1\" class=\"dataframe\">\n",
       "  <thead>\n",
       "    <tr style=\"text-align: right;\">\n",
       "      <th>col_0</th>\n",
       "      <th>False</th>\n",
       "      <th>True</th>\n",
       "    </tr>\n",
       "    <tr>\n",
       "      <th>Theft</th>\n",
       "      <th></th>\n",
       "      <th></th>\n",
       "    </tr>\n",
       "  </thead>\n",
       "  <tbody>\n",
       "    <tr>\n",
       "      <th>False</th>\n",
       "      <td>77</td>\n",
       "      <td>14</td>\n",
       "    </tr>\n",
       "    <tr>\n",
       "      <th>True</th>\n",
       "      <td>43</td>\n",
       "      <td>77</td>\n",
       "    </tr>\n",
       "  </tbody>\n",
       "</table>\n",
       "</div>"
      ],
      "text/plain": [
       "col_0  False  True \n",
       "Theft              \n",
       "False     77     14\n",
       "True      43     77"
      ]
     },
     "metadata": {},
     "output_type": "display_data"
    }
   ],
   "source": [
    "search_results(grad_bayes)"
   ]
  },
  {
   "cell_type": "code",
   "execution_count": 37,
   "metadata": {},
   "outputs": [
    {
     "data": {
      "text/html": [
       "<div>\n",
       "<style scoped>\n",
       "    .dataframe tbody tr th:only-of-type {\n",
       "        vertical-align: middle;\n",
       "    }\n",
       "\n",
       "    .dataframe tbody tr th {\n",
       "        vertical-align: top;\n",
       "    }\n",
       "\n",
       "    .dataframe thead th {\n",
       "        text-align: right;\n",
       "    }\n",
       "</style>\n",
       "<table border=\"1\" class=\"dataframe\">\n",
       "  <thead>\n",
       "    <tr style=\"text-align: right;\">\n",
       "      <th></th>\n",
       "      <th>columns</th>\n",
       "      <th>importance scores</th>\n",
       "    </tr>\n",
       "  </thead>\n",
       "  <tbody>\n",
       "    <tr>\n",
       "      <th>7</th>\n",
       "      <td>Laptop</td>\n",
       "      <td>0.501468</td>\n",
       "    </tr>\n",
       "    <tr>\n",
       "      <th>4</th>\n",
       "      <td>Desktop Computer</td>\n",
       "      <td>0.086335</td>\n",
       "    </tr>\n",
       "    <tr>\n",
       "      <th>5</th>\n",
       "      <td>E-mail</td>\n",
       "      <td>0.082027</td>\n",
       "    </tr>\n",
       "    <tr>\n",
       "      <th>8</th>\n",
       "      <td>Network Server</td>\n",
       "      <td>0.073178</td>\n",
       "    </tr>\n",
       "    <tr>\n",
       "      <th>9</th>\n",
       "      <td>Other</td>\n",
       "      <td>0.068392</td>\n",
       "    </tr>\n",
       "    <tr>\n",
       "      <th>1</th>\n",
       "      <td>year</td>\n",
       "      <td>0.053874</td>\n",
       "    </tr>\n",
       "    <tr>\n",
       "      <th>0</th>\n",
       "      <td>Individuals_Affected</td>\n",
       "      <td>0.039788</td>\n",
       "    </tr>\n",
       "    <tr>\n",
       "      <th>12</th>\n",
       "      <td>Paper</td>\n",
       "      <td>0.028794</td>\n",
       "    </tr>\n",
       "    <tr>\n",
       "      <th>3</th>\n",
       "      <td>breach_day</td>\n",
       "      <td>0.026968</td>\n",
       "    </tr>\n",
       "    <tr>\n",
       "      <th>2</th>\n",
       "      <td>breach_month</td>\n",
       "      <td>0.022527</td>\n",
       "    </tr>\n",
       "    <tr>\n",
       "      <th>11</th>\n",
       "      <td>Other Portable Electronic Device, Other</td>\n",
       "      <td>0.013621</td>\n",
       "    </tr>\n",
       "    <tr>\n",
       "      <th>6</th>\n",
       "      <td>Electronic Medical Record</td>\n",
       "      <td>0.003028</td>\n",
       "    </tr>\n",
       "    <tr>\n",
       "      <th>10</th>\n",
       "      <td>Other Portable Electronic Device</td>\n",
       "      <td>0.000000</td>\n",
       "    </tr>\n",
       "  </tbody>\n",
       "</table>\n",
       "</div>"
      ],
      "text/plain": [
       "                                    columns  importance scores\n",
       "7                                    Laptop           0.501468\n",
       "4                          Desktop Computer           0.086335\n",
       "5                                    E-mail           0.082027\n",
       "8                            Network Server           0.073178\n",
       "9                                     Other           0.068392\n",
       "1                                      year           0.053874\n",
       "0                      Individuals_Affected           0.039788\n",
       "12                                    Paper           0.028794\n",
       "3                                breach_day           0.026968\n",
       "2                              breach_month           0.022527\n",
       "11  Other Portable Electronic Device, Other           0.013621\n",
       "6                 Electronic Medical Record           0.003028\n",
       "10         Other Portable Electronic Device           0.000000"
      ]
     },
     "execution_count": 37,
     "metadata": {},
     "output_type": "execute_result"
    }
   ],
   "source": [
    "x_cols = X_train.columns\n",
    "\n",
    "pd.DataFrame({'columns': x_cols, 'importance scores':grad_bayes.best_estimator_.feature_importances_}).sort_values(\n",
    "    by='importance scores', ascending=False)"
   ]
  },
  {
   "cell_type": "code",
   "execution_count": 38,
   "metadata": {},
   "outputs": [
    {
     "name": "stdout",
     "output_type": "stream",
     "text": [
      "LR: 0.3 | depth: 2 | subsample: 1.0 | max_features: sqrt | trees: 25 | loss: deviance \n",
      "Execution time: 7.867813110351562e-06 seconds\n",
      "Train Accuracy: 0.7626366062411492\n",
      "Test Accuracy: 0.7469322344322344\n",
      "-----Train----\n",
      "               precision    recall  f1-score   support\n",
      "\n",
      "       False       0.72      0.79      0.75       393\n",
      "        True       0.80      0.73      0.77       451\n",
      "\n",
      "    accuracy                           0.76       844\n",
      "   macro avg       0.76      0.76      0.76       844\n",
      "weighted avg       0.76      0.76      0.76       844\n",
      "\n",
      "-----Test----\n",
      "               precision    recall  f1-score   support\n",
      "\n",
      "       False       0.66      0.80      0.73        91\n",
      "        True       0.82      0.69      0.75       120\n",
      "\n",
      "    accuracy                           0.74       211\n",
      "   macro avg       0.74      0.75      0.74       211\n",
      "weighted avg       0.75      0.74      0.74       211\n",
      "\n"
     ]
    },
    {
     "data": {
      "text/html": [
       "<div>\n",
       "<style scoped>\n",
       "    .dataframe tbody tr th:only-of-type {\n",
       "        vertical-align: middle;\n",
       "    }\n",
       "\n",
       "    .dataframe tbody tr th {\n",
       "        vertical-align: top;\n",
       "    }\n",
       "\n",
       "    .dataframe thead th {\n",
       "        text-align: right;\n",
       "    }\n",
       "</style>\n",
       "<table border=\"1\" class=\"dataframe\">\n",
       "  <thead>\n",
       "    <tr style=\"text-align: right;\">\n",
       "      <th>col_0</th>\n",
       "      <th>False</th>\n",
       "      <th>True</th>\n",
       "    </tr>\n",
       "    <tr>\n",
       "      <th>Theft</th>\n",
       "      <th></th>\n",
       "      <th></th>\n",
       "    </tr>\n",
       "  </thead>\n",
       "  <tbody>\n",
       "    <tr>\n",
       "      <th>False</th>\n",
       "      <td>73</td>\n",
       "      <td>18</td>\n",
       "    </tr>\n",
       "    <tr>\n",
       "      <th>True</th>\n",
       "      <td>37</td>\n",
       "      <td>83</td>\n",
       "    </tr>\n",
       "  </tbody>\n",
       "</table>\n",
       "</div>"
      ],
      "text/plain": [
       "col_0  False  True \n",
       "Theft              \n",
       "False     73     18\n",
       "True      37     83"
      ]
     },
     "metadata": {},
     "output_type": "display_data"
    }
   ],
   "source": [
    "search_results(grad_grid)"
   ]
  },
  {
   "cell_type": "code",
   "execution_count": 39,
   "metadata": {},
   "outputs": [
    {
     "data": {
      "text/html": [
       "<div>\n",
       "<style scoped>\n",
       "    .dataframe tbody tr th:only-of-type {\n",
       "        vertical-align: middle;\n",
       "    }\n",
       "\n",
       "    .dataframe tbody tr th {\n",
       "        vertical-align: top;\n",
       "    }\n",
       "\n",
       "    .dataframe thead th {\n",
       "        text-align: right;\n",
       "    }\n",
       "</style>\n",
       "<table border=\"1\" class=\"dataframe\">\n",
       "  <thead>\n",
       "    <tr style=\"text-align: right;\">\n",
       "      <th></th>\n",
       "      <th>columns</th>\n",
       "      <th>importance scores</th>\n",
       "    </tr>\n",
       "  </thead>\n",
       "  <tbody>\n",
       "    <tr>\n",
       "      <th>7</th>\n",
       "      <td>Laptop</td>\n",
       "      <td>0.388028</td>\n",
       "    </tr>\n",
       "    <tr>\n",
       "      <th>5</th>\n",
       "      <td>E-mail</td>\n",
       "      <td>0.142410</td>\n",
       "    </tr>\n",
       "    <tr>\n",
       "      <th>9</th>\n",
       "      <td>Other</td>\n",
       "      <td>0.114624</td>\n",
       "    </tr>\n",
       "    <tr>\n",
       "      <th>0</th>\n",
       "      <td>Individuals_Affected</td>\n",
       "      <td>0.067916</td>\n",
       "    </tr>\n",
       "    <tr>\n",
       "      <th>8</th>\n",
       "      <td>Network Server</td>\n",
       "      <td>0.067176</td>\n",
       "    </tr>\n",
       "    <tr>\n",
       "      <th>12</th>\n",
       "      <td>Paper</td>\n",
       "      <td>0.064440</td>\n",
       "    </tr>\n",
       "    <tr>\n",
       "      <th>4</th>\n",
       "      <td>Desktop Computer</td>\n",
       "      <td>0.047833</td>\n",
       "    </tr>\n",
       "    <tr>\n",
       "      <th>1</th>\n",
       "      <td>year</td>\n",
       "      <td>0.039691</td>\n",
       "    </tr>\n",
       "    <tr>\n",
       "      <th>3</th>\n",
       "      <td>breach_day</td>\n",
       "      <td>0.031262</td>\n",
       "    </tr>\n",
       "    <tr>\n",
       "      <th>11</th>\n",
       "      <td>Other Portable Electronic Device, Other</td>\n",
       "      <td>0.012982</td>\n",
       "    </tr>\n",
       "    <tr>\n",
       "      <th>6</th>\n",
       "      <td>Electronic Medical Record</td>\n",
       "      <td>0.010678</td>\n",
       "    </tr>\n",
       "    <tr>\n",
       "      <th>10</th>\n",
       "      <td>Other Portable Electronic Device</td>\n",
       "      <td>0.006842</td>\n",
       "    </tr>\n",
       "    <tr>\n",
       "      <th>2</th>\n",
       "      <td>breach_month</td>\n",
       "      <td>0.006119</td>\n",
       "    </tr>\n",
       "  </tbody>\n",
       "</table>\n",
       "</div>"
      ],
      "text/plain": [
       "                                    columns  importance scores\n",
       "7                                    Laptop           0.388028\n",
       "5                                    E-mail           0.142410\n",
       "9                                     Other           0.114624\n",
       "0                      Individuals_Affected           0.067916\n",
       "8                            Network Server           0.067176\n",
       "12                                    Paper           0.064440\n",
       "4                          Desktop Computer           0.047833\n",
       "1                                      year           0.039691\n",
       "3                                breach_day           0.031262\n",
       "11  Other Portable Electronic Device, Other           0.012982\n",
       "6                 Electronic Medical Record           0.010678\n",
       "10         Other Portable Electronic Device           0.006842\n",
       "2                              breach_month           0.006119"
      ]
     },
     "execution_count": 39,
     "metadata": {},
     "output_type": "execute_result"
    }
   ],
   "source": [
    "x_cols = X_train.columns\n",
    "\n",
    "pd.DataFrame({'columns': x_cols, 'importance scores':grad_grid.best_estimator_.feature_importances_}).sort_values(\n",
    "    by='importance scores', ascending=False)"
   ]
  },
  {
   "cell_type": "markdown",
   "metadata": {},
   "source": [
    "*Second attempt on CV searches*"
   ]
  },
  {
   "cell_type": "code",
   "execution_count": 40,
   "metadata": {},
   "outputs": [
    {
     "name": "stderr",
     "output_type": "stream",
     "text": [
      "/opt/anaconda3/lib/python3.8/site-packages/skopt/optimizer/optimizer.py:449: UserWarning: The objective has been evaluated at this point before.\n",
      "  warnings.warn(\"The objective has been evaluated \"\n",
      "/opt/anaconda3/lib/python3.8/site-packages/skopt/optimizer/optimizer.py:449: UserWarning: The objective has been evaluated at this point before.\n",
      "  warnings.warn(\"The objective has been evaluated \"\n",
      "/opt/anaconda3/lib/python3.8/site-packages/skopt/optimizer/optimizer.py:449: UserWarning: The objective has been evaluated at this point before.\n",
      "  warnings.warn(\"The objective has been evaluated \"\n",
      "/opt/anaconda3/lib/python3.8/site-packages/skopt/optimizer/optimizer.py:449: UserWarning: The objective has been evaluated at this point before.\n",
      "  warnings.warn(\"The objective has been evaluated \"\n",
      "/opt/anaconda3/lib/python3.8/site-packages/skopt/optimizer/optimizer.py:449: UserWarning: The objective has been evaluated at this point before.\n",
      "  warnings.warn(\"The objective has been evaluated \"\n",
      "/opt/anaconda3/lib/python3.8/site-packages/skopt/optimizer/optimizer.py:449: UserWarning: The objective has been evaluated at this point before.\n",
      "  warnings.warn(\"The objective has been evaluated \"\n"
     ]
    },
    {
     "data": {
      "text/plain": [
       "BayesSearchCV(cv=5, estimator=GradientBoostingClassifier(n_iter_no_change=10),\n",
       "              n_jobs=2, scoring='recall',\n",
       "              search_spaces={'learning_rate': [0.1, 0.3, 0.6, 0.9],\n",
       "                             'loss': ['deviance', 'exponential'],\n",
       "                             'max_depth': [2, 4, 8, 12],\n",
       "                             'max_features': [None, 'sqrt', 0.75],\n",
       "                             'subsample': [1.0, 0.8, 0.6, 0.2]})"
      ]
     },
     "execution_count": 40,
     "metadata": {},
     "output_type": "execute_result"
    }
   ],
   "source": [
    "#bayes search 2.0\n",
    "#changing scoring metric\n",
    "\n",
    "grad_bayes2 = BayesSearchCV(GradientBoostingClassifier(n_iter_no_change=10), parameters, cv=5, \n",
    "                           scoring='recall', n_jobs=2)\n",
    "\n",
    "grad_bayes2.fit(X_train, y_train)"
   ]
  },
  {
   "cell_type": "code",
   "execution_count": 41,
   "metadata": {},
   "outputs": [
    {
     "data": {
      "text/plain": [
       "GridSearchCV(cv=5, estimator=GradientBoostingClassifier(n_iter_no_change=10),\n",
       "             n_jobs=2,\n",
       "             param_grid={'learning_rate': [0.1, 0.3, 0.6, 0.9],\n",
       "                         'loss': ['deviance', 'exponential'],\n",
       "                         'max_depth': [2, 4, 8, 12],\n",
       "                         'max_features': [None, 'sqrt', 0.75],\n",
       "                         'subsample': [1.0, 0.8, 0.6, 0.2]},\n",
       "             scoring='recall')"
      ]
     },
     "execution_count": 41,
     "metadata": {},
     "output_type": "execute_result"
    }
   ],
   "source": [
    "#grid search 2.0\n",
    "#changing scoring metric\n",
    "grad_grid2 = GridSearchCV(GradientBoostingClassifier(n_iter_no_change=10), parameters, cv=5, \n",
    "                         scoring='recall', n_jobs=2)\n",
    "\n",
    "grad_grid2.fit(X_train, y_train)"
   ]
  },
  {
   "cell_type": "markdown",
   "metadata": {},
   "source": [
    "*Results from second cv search attempts*"
   ]
  },
  {
   "cell_type": "code",
   "execution_count": 42,
   "metadata": {},
   "outputs": [
    {
     "name": "stdout",
     "output_type": "stream",
     "text": [
      "LR: 0.6 | depth: 8 | subsample: 0.8 | max_features: sqrt | trees: 11 | loss: exponential \n",
      "Execution time: 1.0013580322265625e-05 seconds\n",
      "Train Accuracy: 0.9223946784922394\n",
      "Test Accuracy: 0.7333333333333333\n",
      "-----Train----\n",
      "               precision    recall  f1-score   support\n",
      "\n",
      "       False       0.91      0.90      0.91       393\n",
      "        True       0.91      0.92      0.92       451\n",
      "\n",
      "    accuracy                           0.91       844\n",
      "   macro avg       0.91      0.91      0.91       844\n",
      "weighted avg       0.91      0.91      0.91       844\n",
      "\n",
      "-----Test----\n",
      "               precision    recall  f1-score   support\n",
      "\n",
      "       False       0.67      0.70      0.68        91\n",
      "        True       0.77      0.73      0.75       120\n",
      "\n",
      "    accuracy                           0.72       211\n",
      "   macro avg       0.72      0.72      0.72       211\n",
      "weighted avg       0.72      0.72      0.72       211\n",
      "\n"
     ]
    },
    {
     "data": {
      "text/html": [
       "<div>\n",
       "<style scoped>\n",
       "    .dataframe tbody tr th:only-of-type {\n",
       "        vertical-align: middle;\n",
       "    }\n",
       "\n",
       "    .dataframe tbody tr th {\n",
       "        vertical-align: top;\n",
       "    }\n",
       "\n",
       "    .dataframe thead th {\n",
       "        text-align: right;\n",
       "    }\n",
       "</style>\n",
       "<table border=\"1\" class=\"dataframe\">\n",
       "  <thead>\n",
       "    <tr style=\"text-align: right;\">\n",
       "      <th>col_0</th>\n",
       "      <th>False</th>\n",
       "      <th>True</th>\n",
       "    </tr>\n",
       "    <tr>\n",
       "      <th>Theft</th>\n",
       "      <th></th>\n",
       "      <th></th>\n",
       "    </tr>\n",
       "  </thead>\n",
       "  <tbody>\n",
       "    <tr>\n",
       "      <th>False</th>\n",
       "      <td>64</td>\n",
       "      <td>27</td>\n",
       "    </tr>\n",
       "    <tr>\n",
       "      <th>True</th>\n",
       "      <td>32</td>\n",
       "      <td>88</td>\n",
       "    </tr>\n",
       "  </tbody>\n",
       "</table>\n",
       "</div>"
      ],
      "text/plain": [
       "col_0  False  True \n",
       "Theft              \n",
       "False     64     27\n",
       "True      32     88"
      ]
     },
     "metadata": {},
     "output_type": "display_data"
    }
   ],
   "source": [
    "search_results(grad_bayes2)"
   ]
  },
  {
   "cell_type": "code",
   "execution_count": 43,
   "metadata": {},
   "outputs": [
    {
     "name": "stdout",
     "output_type": "stream",
     "text": [
      "LR: 0.1 | depth: 12 | subsample: 0.2 | max_features: sqrt | trees: 17 | loss: exponential \n",
      "Execution time: 7.867813110351562e-06 seconds\n",
      "Train Accuracy: 0.8292682926829268\n",
      "Test Accuracy: 0.7416666666666667\n",
      "-----Train----\n",
      "               precision    recall  f1-score   support\n",
      "\n",
      "       False       0.80      0.79      0.80       393\n",
      "        True       0.82      0.83      0.82       451\n",
      "\n",
      "    accuracy                           0.81       844\n",
      "   macro avg       0.81      0.81      0.81       844\n",
      "weighted avg       0.81      0.81      0.81       844\n",
      "\n",
      "-----Test----\n",
      "               precision    recall  f1-score   support\n",
      "\n",
      "       False       0.66      0.65      0.65        91\n",
      "        True       0.74      0.74      0.74       120\n",
      "\n",
      "    accuracy                           0.70       211\n",
      "   macro avg       0.70      0.70      0.70       211\n",
      "weighted avg       0.70      0.70      0.70       211\n",
      "\n"
     ]
    },
    {
     "data": {
      "text/html": [
       "<div>\n",
       "<style scoped>\n",
       "    .dataframe tbody tr th:only-of-type {\n",
       "        vertical-align: middle;\n",
       "    }\n",
       "\n",
       "    .dataframe tbody tr th {\n",
       "        vertical-align: top;\n",
       "    }\n",
       "\n",
       "    .dataframe thead th {\n",
       "        text-align: right;\n",
       "    }\n",
       "</style>\n",
       "<table border=\"1\" class=\"dataframe\">\n",
       "  <thead>\n",
       "    <tr style=\"text-align: right;\">\n",
       "      <th>col_0</th>\n",
       "      <th>False</th>\n",
       "      <th>True</th>\n",
       "    </tr>\n",
       "    <tr>\n",
       "      <th>Theft</th>\n",
       "      <th></th>\n",
       "      <th></th>\n",
       "    </tr>\n",
       "  </thead>\n",
       "  <tbody>\n",
       "    <tr>\n",
       "      <th>False</th>\n",
       "      <td>59</td>\n",
       "      <td>32</td>\n",
       "    </tr>\n",
       "    <tr>\n",
       "      <th>True</th>\n",
       "      <td>31</td>\n",
       "      <td>89</td>\n",
       "    </tr>\n",
       "  </tbody>\n",
       "</table>\n",
       "</div>"
      ],
      "text/plain": [
       "col_0  False  True \n",
       "Theft              \n",
       "False     59     32\n",
       "True      31     89"
      ]
     },
     "metadata": {},
     "output_type": "display_data"
    }
   ],
   "source": [
    "search_results(grad_grid2)"
   ]
  },
  {
   "cell_type": "markdown",
   "metadata": {},
   "source": [
    "The best value for scoring in the CrossValidation searches was the \"recall_macro\" as this setting focused on the recall scores of both True and False. When the scoring=\"recall\", the True values had a higher recall score, but the models seemed to be overfitting for the train sets. Also, the best parameters (when scoring=\"recall\") for learning rate, max depth, and subsample were very different between the two CV searches. While, the best parameters for the inital CV search (scoring=\"recall_macro\") were only slightly different.\n",
    "\n",
    "Based off these findings, I will use the parameters from the inital CV searches (scoring=\"recall_macro\") as a basis for my model. Because there were some differences in parameters between the 2 CV searches, I will tweak those parameters in the GradientBoostingClassifier() to provide the best model."
   ]
  },
  {
   "cell_type": "markdown",
   "metadata": {},
   "source": [
    "**Tweaking parameters from CV searches results**\n",
    "\n",
    "*start with BayesSearch parameters first*"
   ]
  },
  {
   "cell_type": "code",
   "execution_count": 44,
   "metadata": {},
   "outputs": [
    {
     "data": {
      "text/plain": [
       "GradientBoostingClassifier(loss='exponential', max_depth=2, max_features='sqrt',\n",
       "                           n_estimators=32, subsample=0.75)"
      ]
     },
     "execution_count": 44,
     "metadata": {},
     "output_type": "execute_result"
    }
   ],
   "source": [
    "#tweaking parameters from bayes search\n",
    "\n",
    "gbc_2 = GradientBoostingClassifier(learning_rate=0.1, loss='exponential', n_estimators=32, \n",
    "                                   subsample=0.75, max_depth=2, max_features='sqrt')\n",
    "gbc_2.fit(X_train, y_train)"
   ]
  },
  {
   "cell_type": "code",
   "execution_count": 45,
   "metadata": {},
   "outputs": [
    {
     "name": "stdout",
     "output_type": "stream",
     "text": [
      "Train Accuracy: 0.7440758293838863 | Test Accuracy: 0.7109004739336493 \n",
      "Execution time: 0.007756710052490234 seconds\n",
      "-----Train----\n",
      "               precision    recall  f1-score   support\n",
      "\n",
      "       False       0.70      0.79      0.74       393\n",
      "        True       0.79      0.71      0.75       451\n",
      "\n",
      "    accuracy                           0.74       844\n",
      "   macro avg       0.75      0.75      0.74       844\n",
      "weighted avg       0.75      0.74      0.74       844\n",
      "\n",
      "-----Test-----\n",
      "               precision    recall  f1-score   support\n",
      "\n",
      "       False       0.65      0.71      0.68        91\n",
      "        True       0.77      0.71      0.74       120\n",
      "\n",
      "    accuracy                           0.71       211\n",
      "   macro avg       0.71      0.71      0.71       211\n",
      "weighted avg       0.72      0.71      0.71       211\n",
      "\n"
     ]
    },
    {
     "data": {
      "text/html": [
       "<div>\n",
       "<style scoped>\n",
       "    .dataframe tbody tr th:only-of-type {\n",
       "        vertical-align: middle;\n",
       "    }\n",
       "\n",
       "    .dataframe tbody tr th {\n",
       "        vertical-align: top;\n",
       "    }\n",
       "\n",
       "    .dataframe thead th {\n",
       "        text-align: right;\n",
       "    }\n",
       "</style>\n",
       "<table border=\"1\" class=\"dataframe\">\n",
       "  <thead>\n",
       "    <tr style=\"text-align: right;\">\n",
       "      <th>col_0</th>\n",
       "      <th>False</th>\n",
       "      <th>True</th>\n",
       "    </tr>\n",
       "    <tr>\n",
       "      <th>Theft</th>\n",
       "      <th></th>\n",
       "      <th></th>\n",
       "    </tr>\n",
       "  </thead>\n",
       "  <tbody>\n",
       "    <tr>\n",
       "      <th>False</th>\n",
       "      <td>65</td>\n",
       "      <td>26</td>\n",
       "    </tr>\n",
       "    <tr>\n",
       "      <th>True</th>\n",
       "      <td>35</td>\n",
       "      <td>85</td>\n",
       "    </tr>\n",
       "  </tbody>\n",
       "</table>\n",
       "</div>"
      ],
      "text/plain": [
       "col_0  False  True \n",
       "Theft              \n",
       "False     65     26\n",
       "True      35     85"
      ]
     },
     "metadata": {},
     "output_type": "display_data"
    }
   ],
   "source": [
    "results(gbc_2)"
   ]
  },
  {
   "cell_type": "code",
   "execution_count": 46,
   "metadata": {},
   "outputs": [
    {
     "data": {
      "text/plain": [
       "GradientBoostingClassifier(learning_rate=0.3, loss='exponential', max_depth=2,\n",
       "                           max_features='sqrt', n_estimators=32,\n",
       "                           subsample=0.75)"
      ]
     },
     "execution_count": 46,
     "metadata": {},
     "output_type": "execute_result"
    }
   ],
   "source": [
    "#changing LR\n",
    "gbc_3 = GradientBoostingClassifier(learning_rate=0.3, loss='exponential', n_estimators=32, \n",
    "                                   subsample=0.75, max_depth=2, max_features='sqrt')\n",
    "gbc_3.fit(X_train, y_train)"
   ]
  },
  {
   "cell_type": "code",
   "execution_count": 47,
   "metadata": {},
   "outputs": [
    {
     "name": "stdout",
     "output_type": "stream",
     "text": [
      "Train Accuracy: 0.7571090047393365 | Test Accuracy: 0.7345971563981043 \n",
      "Execution time: 0.008156776428222656 seconds\n",
      "-----Train----\n",
      "               precision    recall  f1-score   support\n",
      "\n",
      "       False       0.71      0.80      0.75       393\n",
      "        True       0.80      0.72      0.76       451\n",
      "\n",
      "    accuracy                           0.76       844\n",
      "   macro avg       0.76      0.76      0.76       844\n",
      "weighted avg       0.76      0.76      0.76       844\n",
      "\n",
      "-----Test-----\n",
      "               precision    recall  f1-score   support\n",
      "\n",
      "       False       0.67      0.77      0.71        91\n",
      "        True       0.80      0.71      0.75       120\n",
      "\n",
      "    accuracy                           0.73       211\n",
      "   macro avg       0.73      0.74      0.73       211\n",
      "weighted avg       0.74      0.73      0.74       211\n",
      "\n"
     ]
    },
    {
     "data": {
      "text/html": [
       "<div>\n",
       "<style scoped>\n",
       "    .dataframe tbody tr th:only-of-type {\n",
       "        vertical-align: middle;\n",
       "    }\n",
       "\n",
       "    .dataframe tbody tr th {\n",
       "        vertical-align: top;\n",
       "    }\n",
       "\n",
       "    .dataframe thead th {\n",
       "        text-align: right;\n",
       "    }\n",
       "</style>\n",
       "<table border=\"1\" class=\"dataframe\">\n",
       "  <thead>\n",
       "    <tr style=\"text-align: right;\">\n",
       "      <th>col_0</th>\n",
       "      <th>False</th>\n",
       "      <th>True</th>\n",
       "    </tr>\n",
       "    <tr>\n",
       "      <th>Theft</th>\n",
       "      <th></th>\n",
       "      <th></th>\n",
       "    </tr>\n",
       "  </thead>\n",
       "  <tbody>\n",
       "    <tr>\n",
       "      <th>False</th>\n",
       "      <td>70</td>\n",
       "      <td>21</td>\n",
       "    </tr>\n",
       "    <tr>\n",
       "      <th>True</th>\n",
       "      <td>35</td>\n",
       "      <td>85</td>\n",
       "    </tr>\n",
       "  </tbody>\n",
       "</table>\n",
       "</div>"
      ],
      "text/plain": [
       "col_0  False  True \n",
       "Theft              \n",
       "False     70     21\n",
       "True      35     85"
      ]
     },
     "metadata": {},
     "output_type": "display_data"
    }
   ],
   "source": [
    "results(gbc_3)\n",
    "\n",
    "#best accuracy scores between 3 different LR's"
   ]
  },
  {
   "cell_type": "code",
   "execution_count": 48,
   "metadata": {},
   "outputs": [
    {
     "data": {
      "text/plain": [
       "GradientBoostingClassifier(learning_rate=0.2, loss='exponential', max_depth=2,\n",
       "                           max_features='sqrt', n_estimators=32,\n",
       "                           subsample=0.75)"
      ]
     },
     "execution_count": 48,
     "metadata": {},
     "output_type": "execute_result"
    }
   ],
   "source": [
    "#changing LR\n",
    "gbc_4 = GradientBoostingClassifier(learning_rate=0.2, loss='exponential', n_estimators=32, \n",
    "                                   subsample=0.75, max_depth=2, max_features='sqrt')\n",
    "gbc_4.fit(X_train, y_train)"
   ]
  },
  {
   "cell_type": "code",
   "execution_count": 49,
   "metadata": {},
   "outputs": [
    {
     "name": "stdout",
     "output_type": "stream",
     "text": [
      "Train Accuracy: 0.7345971563981043 | Test Accuracy: 0.7014218009478673 \n",
      "Execution time: 0.008205175399780273 seconds\n",
      "-----Train----\n",
      "               precision    recall  f1-score   support\n",
      "\n",
      "       False       0.68      0.81      0.74       393\n",
      "        True       0.80      0.67      0.73       451\n",
      "\n",
      "    accuracy                           0.73       844\n",
      "   macro avg       0.74      0.74      0.73       844\n",
      "weighted avg       0.75      0.73      0.73       844\n",
      "\n",
      "-----Test-----\n",
      "               precision    recall  f1-score   support\n",
      "\n",
      "       False       0.63      0.73      0.68        91\n",
      "        True       0.77      0.68      0.72       120\n",
      "\n",
      "    accuracy                           0.70       211\n",
      "   macro avg       0.70      0.70      0.70       211\n",
      "weighted avg       0.71      0.70      0.70       211\n",
      "\n"
     ]
    },
    {
     "data": {
      "text/html": [
       "<div>\n",
       "<style scoped>\n",
       "    .dataframe tbody tr th:only-of-type {\n",
       "        vertical-align: middle;\n",
       "    }\n",
       "\n",
       "    .dataframe tbody tr th {\n",
       "        vertical-align: top;\n",
       "    }\n",
       "\n",
       "    .dataframe thead th {\n",
       "        text-align: right;\n",
       "    }\n",
       "</style>\n",
       "<table border=\"1\" class=\"dataframe\">\n",
       "  <thead>\n",
       "    <tr style=\"text-align: right;\">\n",
       "      <th>col_0</th>\n",
       "      <th>False</th>\n",
       "      <th>True</th>\n",
       "    </tr>\n",
       "    <tr>\n",
       "      <th>Theft</th>\n",
       "      <th></th>\n",
       "      <th></th>\n",
       "    </tr>\n",
       "  </thead>\n",
       "  <tbody>\n",
       "    <tr>\n",
       "      <th>False</th>\n",
       "      <td>66</td>\n",
       "      <td>25</td>\n",
       "    </tr>\n",
       "    <tr>\n",
       "      <th>True</th>\n",
       "      <td>38</td>\n",
       "      <td>82</td>\n",
       "    </tr>\n",
       "  </tbody>\n",
       "</table>\n",
       "</div>"
      ],
      "text/plain": [
       "col_0  False  True \n",
       "Theft              \n",
       "False     66     25\n",
       "True      38     82"
      ]
     },
     "metadata": {},
     "output_type": "display_data"
    }
   ],
   "source": [
    "results(gbc_4)"
   ]
  },
  {
   "cell_type": "code",
   "execution_count": 50,
   "metadata": {},
   "outputs": [
    {
     "data": {
      "text/plain": [
       "GradientBoostingClassifier(learning_rate=0.3, max_depth=2, max_features='sqrt',\n",
       "                           n_estimators=32, subsample=0.75)"
      ]
     },
     "execution_count": 50,
     "metadata": {},
     "output_type": "execute_result"
    }
   ],
   "source": [
    "#changing loss\n",
    "gbc_5 = GradientBoostingClassifier(learning_rate=0.3, loss='deviance', n_estimators=32, \n",
    "                                   subsample=0.75, max_depth=2, max_features='sqrt')\n",
    "gbc_5.fit(X_train, y_train)"
   ]
  },
  {
   "cell_type": "code",
   "execution_count": 51,
   "metadata": {},
   "outputs": [
    {
     "name": "stdout",
     "output_type": "stream",
     "text": [
      "Train Accuracy: 0.7523696682464455 | Test Accuracy: 0.7393364928909952 \n",
      "Execution time: 0.008486032485961914 seconds\n",
      "-----Train----\n",
      "               precision    recall  f1-score   support\n",
      "\n",
      "       False       0.71      0.79      0.75       393\n",
      "        True       0.80      0.72      0.76       451\n",
      "\n",
      "    accuracy                           0.75       844\n",
      "   macro avg       0.75      0.75      0.75       844\n",
      "weighted avg       0.76      0.75      0.75       844\n",
      "\n",
      "-----Test-----\n",
      "               precision    recall  f1-score   support\n",
      "\n",
      "       False       0.68      0.75      0.71        91\n",
      "        True       0.79      0.73      0.76       120\n",
      "\n",
      "    accuracy                           0.74       211\n",
      "   macro avg       0.74      0.74      0.74       211\n",
      "weighted avg       0.74      0.74      0.74       211\n",
      "\n"
     ]
    },
    {
     "data": {
      "text/html": [
       "<div>\n",
       "<style scoped>\n",
       "    .dataframe tbody tr th:only-of-type {\n",
       "        vertical-align: middle;\n",
       "    }\n",
       "\n",
       "    .dataframe tbody tr th {\n",
       "        vertical-align: top;\n",
       "    }\n",
       "\n",
       "    .dataframe thead th {\n",
       "        text-align: right;\n",
       "    }\n",
       "</style>\n",
       "<table border=\"1\" class=\"dataframe\">\n",
       "  <thead>\n",
       "    <tr style=\"text-align: right;\">\n",
       "      <th>col_0</th>\n",
       "      <th>False</th>\n",
       "      <th>True</th>\n",
       "    </tr>\n",
       "    <tr>\n",
       "      <th>Theft</th>\n",
       "      <th></th>\n",
       "      <th></th>\n",
       "    </tr>\n",
       "  </thead>\n",
       "  <tbody>\n",
       "    <tr>\n",
       "      <th>False</th>\n",
       "      <td>68</td>\n",
       "      <td>23</td>\n",
       "    </tr>\n",
       "    <tr>\n",
       "      <th>True</th>\n",
       "      <td>32</td>\n",
       "      <td>88</td>\n",
       "    </tr>\n",
       "  </tbody>\n",
       "</table>\n",
       "</div>"
      ],
      "text/plain": [
       "col_0  False  True \n",
       "Theft              \n",
       "False     68     23\n",
       "True      32     88"
      ]
     },
     "metadata": {},
     "output_type": "display_data"
    }
   ],
   "source": [
    "results(gbc_5)\n",
    "\n",
    "#same accuracy scores even when loss changed to deviance\n",
    "# but better recall scores"
   ]
  },
  {
   "cell_type": "code",
   "execution_count": 52,
   "metadata": {},
   "outputs": [
    {
     "data": {
      "text/plain": [
       "GradientBoostingClassifier(learning_rate=0.3, max_depth=2, max_features='sqrt',\n",
       "                           n_estimators=25, subsample=0.75)"
      ]
     },
     "execution_count": 52,
     "metadata": {},
     "output_type": "execute_result"
    }
   ],
   "source": [
    "#changing n_estimators \n",
    "gbc_6 = GradientBoostingClassifier(learning_rate=0.3, loss='deviance', n_estimators=25, \n",
    "                                   subsample=0.75, max_depth=2, max_features='sqrt')\n",
    "gbc_6.fit(X_train, y_train)"
   ]
  },
  {
   "cell_type": "code",
   "execution_count": 53,
   "metadata": {},
   "outputs": [
    {
     "name": "stdout",
     "output_type": "stream",
     "text": [
      "Train Accuracy: 0.759478672985782 | Test Accuracy: 0.7156398104265402 \n",
      "Execution time: 0.008373022079467773 seconds\n",
      "-----Train----\n",
      "               precision    recall  f1-score   support\n",
      "\n",
      "       False       0.72      0.80      0.76       393\n",
      "        True       0.81      0.72      0.76       451\n",
      "\n",
      "    accuracy                           0.76       844\n",
      "   macro avg       0.76      0.76      0.76       844\n",
      "weighted avg       0.76      0.76      0.76       844\n",
      "\n",
      "-----Test-----\n",
      "               precision    recall  f1-score   support\n",
      "\n",
      "       False       0.65      0.74      0.69        91\n",
      "        True       0.78      0.70      0.74       120\n",
      "\n",
      "    accuracy                           0.72       211\n",
      "   macro avg       0.71      0.72      0.71       211\n",
      "weighted avg       0.72      0.72      0.72       211\n",
      "\n"
     ]
    },
    {
     "data": {
      "text/html": [
       "<div>\n",
       "<style scoped>\n",
       "    .dataframe tbody tr th:only-of-type {\n",
       "        vertical-align: middle;\n",
       "    }\n",
       "\n",
       "    .dataframe tbody tr th {\n",
       "        vertical-align: top;\n",
       "    }\n",
       "\n",
       "    .dataframe thead th {\n",
       "        text-align: right;\n",
       "    }\n",
       "</style>\n",
       "<table border=\"1\" class=\"dataframe\">\n",
       "  <thead>\n",
       "    <tr style=\"text-align: right;\">\n",
       "      <th>col_0</th>\n",
       "      <th>False</th>\n",
       "      <th>True</th>\n",
       "    </tr>\n",
       "    <tr>\n",
       "      <th>Theft</th>\n",
       "      <th></th>\n",
       "      <th></th>\n",
       "    </tr>\n",
       "  </thead>\n",
       "  <tbody>\n",
       "    <tr>\n",
       "      <th>False</th>\n",
       "      <td>67</td>\n",
       "      <td>24</td>\n",
       "    </tr>\n",
       "    <tr>\n",
       "      <th>True</th>\n",
       "      <td>36</td>\n",
       "      <td>84</td>\n",
       "    </tr>\n",
       "  </tbody>\n",
       "</table>\n",
       "</div>"
      ],
      "text/plain": [
       "col_0  False  True \n",
       "Theft              \n",
       "False     67     24\n",
       "True      36     84"
      ]
     },
     "metadata": {},
     "output_type": "display_data"
    }
   ],
   "source": [
    "results(gbc_6)"
   ]
  },
  {
   "cell_type": "code",
   "execution_count": 54,
   "metadata": {},
   "outputs": [
    {
     "data": {
      "text/plain": [
       "GradientBoostingClassifier(learning_rate=0.3, max_depth=2, max_features='sqrt',\n",
       "                           n_estimators=32)"
      ]
     },
     "execution_count": 54,
     "metadata": {},
     "output_type": "execute_result"
    }
   ],
   "source": [
    "#changing subsample\n",
    "gbc_7 = GradientBoostingClassifier(learning_rate=0.3, loss='deviance', n_estimators=32, \n",
    "                                   subsample=1.0, max_depth=2, max_features='sqrt')\n",
    "gbc_7.fit(X_train, y_train)"
   ]
  },
  {
   "cell_type": "code",
   "execution_count": 55,
   "metadata": {},
   "outputs": [
    {
     "name": "stdout",
     "output_type": "stream",
     "text": [
      "Train Accuracy: 0.7630331753554502 | Test Accuracy: 0.7393364928909952 \n",
      "Execution time: 0.009632110595703125 seconds\n",
      "-----Train----\n",
      "               precision    recall  f1-score   support\n",
      "\n",
      "       False       0.73      0.79      0.76       393\n",
      "        True       0.80      0.74      0.77       451\n",
      "\n",
      "    accuracy                           0.76       844\n",
      "   macro avg       0.76      0.76      0.76       844\n",
      "weighted avg       0.77      0.76      0.76       844\n",
      "\n",
      "-----Test-----\n",
      "               precision    recall  f1-score   support\n",
      "\n",
      "       False       0.67      0.77      0.72        91\n",
      "        True       0.80      0.72      0.76       120\n",
      "\n",
      "    accuracy                           0.74       211\n",
      "   macro avg       0.74      0.74      0.74       211\n",
      "weighted avg       0.75      0.74      0.74       211\n",
      "\n"
     ]
    },
    {
     "data": {
      "text/html": [
       "<div>\n",
       "<style scoped>\n",
       "    .dataframe tbody tr th:only-of-type {\n",
       "        vertical-align: middle;\n",
       "    }\n",
       "\n",
       "    .dataframe tbody tr th {\n",
       "        vertical-align: top;\n",
       "    }\n",
       "\n",
       "    .dataframe thead th {\n",
       "        text-align: right;\n",
       "    }\n",
       "</style>\n",
       "<table border=\"1\" class=\"dataframe\">\n",
       "  <thead>\n",
       "    <tr style=\"text-align: right;\">\n",
       "      <th>col_0</th>\n",
       "      <th>False</th>\n",
       "      <th>True</th>\n",
       "    </tr>\n",
       "    <tr>\n",
       "      <th>Theft</th>\n",
       "      <th></th>\n",
       "      <th></th>\n",
       "    </tr>\n",
       "  </thead>\n",
       "  <tbody>\n",
       "    <tr>\n",
       "      <th>False</th>\n",
       "      <td>70</td>\n",
       "      <td>21</td>\n",
       "    </tr>\n",
       "    <tr>\n",
       "      <th>True</th>\n",
       "      <td>34</td>\n",
       "      <td>86</td>\n",
       "    </tr>\n",
       "  </tbody>\n",
       "</table>\n",
       "</div>"
      ],
      "text/plain": [
       "col_0  False  True \n",
       "Theft              \n",
       "False     70     21\n",
       "True      34     86"
      ]
     },
     "metadata": {},
     "output_type": "display_data"
    }
   ],
   "source": [
    "results(gbc_7)"
   ]
  },
  {
   "cell_type": "markdown",
   "metadata": {},
   "source": [
    "Comparing the 2 different CV searches there were 4 \"best\" parameters that were slighlty different. So I went and changed each one **separately** starting with the learning rate and found the best parameters for my prediction of cyber security breaches labeled as \"theft\" or not in the Gradient Boosting Classifier model. \n",
    "\n",
    "So, between the 6 different gbc models where I changed the learning rate, loss, n_estimators, and subsample, the best parameters for my model are:\n",
    "\n",
    "* learning_rate=0.3\n",
    "* loss='deviance' (default parameter)\n",
    "* subsample=0.75\n",
    "* n_estimators=32\n",
    "* max_depth=2\n",
    "* max_features='sqrt'\n",
    "\n",
    "These parameters gave me the best results in a confusion matrix with low false negatives and positives. The accuracy scores were the best without seeing the training set start to overfit. Also the difference between the scores was the lowest. The recall scores in both the train **and** test set provided the highest numbers for both False and True values. "
   ]
  },
  {
   "cell_type": "markdown",
   "metadata": {},
   "source": [
    "**Illustrating best parameters**"
   ]
  },
  {
   "cell_type": "code",
   "execution_count": 56,
   "metadata": {},
   "outputs": [],
   "source": [
    "from sklearn.metrics import confusion_matrix, plot_confusion_matrix, roc_curve\n",
    "\n",
    "#function for confusion matrix\n",
    "def plot_confusion_matrix(cm, target_names, title='Confusion matrix', cmap=None, normalize=True):\n",
    "  import itertools\n",
    "\n",
    "  accuracy = np.trace(cm) / float(np.sum(cm))\n",
    "  misclass = 1 - accuracy\n",
    "\n",
    "  if cmap is None:\n",
    "    cmap = plt.get_cmap('Blues')\n",
    "  \n",
    "  plt.figure(figsize=(8,6))\n",
    "  plt.imshow(cm, interpolation='nearest', cmap=cmap)\n",
    "  plt.title(title)\n",
    "  plt.colorbar()\n",
    "\n",
    "  if target_names is not None:\n",
    "    tick_marks = np.arange(len(target_names))\n",
    "    plt.xticks(tick_marks, target_names, rotation=45)\n",
    "    plt.yticks(tick_marks, target_names)\n",
    "  \n",
    "  if normalize:\n",
    "    cm = cm.astype('float') / cm.sum(axis=1)[:, np.newaxis]\n",
    "  \n",
    "  thresh = cm.max() / 1.5 if normalize else cm.max() / 2\n",
    "  for i, j in itertools.product(range(cm.shape[0]), range(cm.shape[1])):\n",
    "    if normalize:\n",
    "      plt.text(j, i, '{:0.4f}'.format(cm[i, j]),\n",
    "               horizontalalignment='center',\n",
    "               color='white' if cm[i, j] > thresh else 'black')\n",
    "    else:\n",
    "      plt.text(j, i, '{:,}'.format(cm[i, j]),\n",
    "               horizontalalignment='center',\n",
    "               color='white' if cm[i, j] > thresh else 'black')\n",
    "  plt.tight_layout()\n",
    "  plt.ylabel('True label')\n",
    "  plt.xlabel('Predicted label\\naccuracy={:0.4f}; misclass={:0.4f}'.format(accuracy, misclass))"
   ]
  },
  {
   "cell_type": "code",
   "execution_count": 57,
   "metadata": {},
   "outputs": [
    {
     "name": "stdout",
     "output_type": "stream",
     "text": [
      "Train accuracy: 0.7523696682464455\n",
      "Test accuracy: 0.7393364928909952\n"
     ]
    },
    {
     "data": {
      "image/png": "[encoded data removed]",
      "text/plain": [
       "<Figure size 576x432 with 2 Axes>"
      ]
     },
     "metadata": {
      "needs_background": "light"
     },
     "output_type": "display_data"
    }
   ],
   "source": [
    "#gbc_5 contains the best parameters\n",
    "print('Train accuracy:', gbc_5.score(X_train, y_train))\n",
    "print('Test accuracy:', gbc_5.score(X_test, y_test))\n",
    "\n",
    "\n",
    "y_test_pred = gbc_5.predict(X_test)\n",
    "\n",
    "cm = confusion_matrix(y_test, y_test_pred)\n",
    "plot_confusion_matrix(cm, target_names=['Not Theft', 'Theft'], \n",
    "                      title='Confusion matrix for Theft security breach', normalize=True)"
   ]
  },
  {
   "cell_type": "code",
   "execution_count": 62,
   "metadata": {},
   "outputs": [
    {
     "name": "stdout",
     "output_type": "stream",
     "text": [
      "Train Accuracy: 0.7523696682464455 | Test Accuracy: 0.7393364928909952 \n",
      "Execution time: 0.01775527000427246 seconds\n",
      "-----Train----\n",
      "               precision    recall  f1-score   support\n",
      "\n",
      "       False       0.71      0.79      0.75       393\n",
      "        True       0.80      0.72      0.76       451\n",
      "\n",
      "    accuracy                           0.75       844\n",
      "   macro avg       0.75      0.75      0.75       844\n",
      "weighted avg       0.76      0.75      0.75       844\n",
      "\n",
      "-----Test-----\n",
      "               precision    recall  f1-score   support\n",
      "\n",
      "       False       0.68      0.75      0.71        91\n",
      "        True       0.79      0.73      0.76       120\n",
      "\n",
      "    accuracy                           0.74       211\n",
      "   macro avg       0.74      0.74      0.74       211\n",
      "weighted avg       0.74      0.74      0.74       211\n",
      "\n"
     ]
    },
    {
     "data": {
      "text/html": [
       "<div>\n",
       "<style scoped>\n",
       "    .dataframe tbody tr th:only-of-type {\n",
       "        vertical-align: middle;\n",
       "    }\n",
       "\n",
       "    .dataframe tbody tr th {\n",
       "        vertical-align: top;\n",
       "    }\n",
       "\n",
       "    .dataframe thead th {\n",
       "        text-align: right;\n",
       "    }\n",
       "</style>\n",
       "<table border=\"1\" class=\"dataframe\">\n",
       "  <thead>\n",
       "    <tr style=\"text-align: right;\">\n",
       "      <th>col_0</th>\n",
       "      <th>False</th>\n",
       "      <th>True</th>\n",
       "    </tr>\n",
       "    <tr>\n",
       "      <th>Theft</th>\n",
       "      <th></th>\n",
       "      <th></th>\n",
       "    </tr>\n",
       "  </thead>\n",
       "  <tbody>\n",
       "    <tr>\n",
       "      <th>False</th>\n",
       "      <td>68</td>\n",
       "      <td>23</td>\n",
       "    </tr>\n",
       "    <tr>\n",
       "      <th>True</th>\n",
       "      <td>32</td>\n",
       "      <td>88</td>\n",
       "    </tr>\n",
       "  </tbody>\n",
       "</table>\n",
       "</div>"
      ],
      "text/plain": [
       "col_0  False  True \n",
       "Theft              \n",
       "False     68     23\n",
       "True      32     88"
      ]
     },
     "metadata": {},
     "output_type": "display_data"
    }
   ],
   "source": [
    "#GBC(LR=0.3, loss=deviance, subsample=0.75, n_estimators=32, max_feat=sqrt, max_depth=2)\n",
    "results(gbc_5)"
   ]
  },
  {
   "cell_type": "code",
   "execution_count": 59,
   "metadata": {},
   "outputs": [],
   "source": [
    "probs = gbc_5.predict_proba(X_test)[:,1]\n",
    "fpr, tpr, thresholds = roc_curve(y_test, probs)"
   ]
  },
  {
   "cell_type": "code",
   "execution_count": 60,
   "metadata": {},
   "outputs": [
    {
     "data": {
      "image/png": "[encoded data removed]",
      "text/plain": [
       "<Figure size 432x432 with 1 Axes>"
      ]
     },
     "metadata": {
      "needs_background": "light"
     },
     "output_type": "display_data"
    }
   ],
   "source": [
    "#ROC curve of TP vs FP\n",
    "fig = plt.figure(figsize = (6, 6))\n",
    "plt.plot([0, 1], [0, 1], 'k--')\n",
    "plt.plot(fpr, tpr)\n",
    "plt.xlabel('False Positive Rate')\n",
    "plt.ylabel('True Positive Rate')\n",
    "plt.title('ROC curve for best Gradient Boosting Model')\n",
    "plt.show()"
   ]
  },
  {
   "cell_type": "code",
   "execution_count": 70,
   "metadata": {},
   "outputs": [
    {
     "data": {
      "image/png": "[encoded data removed]",
      "text/plain": [
       "<Figure size 432x288 with 1 Axes>"
      ]
     },
     "metadata": {
      "needs_background": "light"
     },
     "output_type": "display_data"
    }
   ],
   "source": [
    "feature_importance = gbc_5.feature_importances_\n",
    "\n",
    "# Make importances relative to max importance.\n",
    "feature_importance = 100.0 * (feature_importance / feature_importance.max())\n",
    "sorted_idx = np.argsort(feature_importance)\n",
    "pos = np.arange(sorted_idx.shape[0]) + .5\n",
    "plt.subplot(1, 2, 2)\n",
    "plt.barh(pos, feature_importance[sorted_idx], align='center')\n",
    "plt.yticks(pos, X.columns[sorted_idx])\n",
    "plt.xlabel('Relative Importance')\n",
    "plt.title('Variable Importance')\n",
    "plt.show()"
   ]
  },
  {
   "cell_type": "markdown",
   "metadata": {},
   "source": [
    "The Confusion Matrix of the GradientBoostingClassifier model illustrates the recall scores of the test set (\"new\" data). The recall scores, which refers to the percentage of total relevant results correctly classified by my model, for the True class is 0.72 for the train set and 0.73 for the test set. The recall scores for the False class is 0.79 for the train set and 0.75 for the test set. \n",
    "\n",
    "In layman terms, if I state that a breach will not be labeled as \"theft\", I will be correct 74.73% of the time. Whereas the percentage of me stating a cyber security breach will not be labeled as \"theft\" but am wrong (False negative) is 26.67% of the time.\n",
    "\n",
    "On the other hand if I state that a breach will be labeled as \"theft\", I will be right 73.3% of the time. And if I state a breach will be label as \"theft\" but am wrong (FP), the percentage would be 25.27%. \n",
    "\n",
    "The Execution time of the model is 0.0177 seconds meaning that a prediction will be executed quickly for security breaches. The train accuracy and the test accuracy are 75.2% and 73.9%, respectively. The model is accurately predicting outcomes for the current data (train) 75% of the time. The model is accurately predicting outcomes for new data (test) almost 74% of the time. So the accuracy of my model is very similiar for current data and new data. \n"
   ]
  },
  {
   "cell_type": "markdown",
   "metadata": {},
   "source": [
    "Metadata:\n",
    "\n",
    "number\n",
    "\n",
    "* similar to index of observations\n",
    "\n",
    "Name_of_Covered_Entity\n",
    "\n",
    "* name of the covered company/organization that experienced a cyber security breach\n",
    "* health care industry\n",
    "\n",
    "State\n",
    "\n",
    "* State where the company/organization headquartered\n",
    "\n",
    "Business_associated_involved\n",
    "\n",
    "* lists businesses associated with covered entity (very sparse)\n",
    "\n",
    "Individuals_Affected\n",
    "\n",
    "* individuals that were affected from breach\n",
    "\n",
    "Date_of_Breach\n",
    "\n",
    "* date breach occurred\n",
    "\n",
    "Type_of_Breach\n",
    "\n",
    "* categorical type of breach\n",
    "\n",
    "Location_of_Breached_Information\n",
    "\n",
    "* location of information that was breached\n",
    "\n",
    "Date_Posted_or_Updated\n",
    "\n",
    "* date breach was posted/updated to database\n",
    "\n",
    "Summary\n",
    "\n",
    "* summary description of breach (sparse data)\n",
    "\n",
    "breach_start\n",
    "\n",
    "* start date of breach\n",
    "\n",
    "breach_end\n",
    "\n",
    "* end date of breach (sparse data)\n",
    "\n",
    "year\n",
    "\n",
    "* year breach occurred"
   ]
  },
  {
   "cell_type": "code",
   "execution_count": null,
   "metadata": {},
   "outputs": [],
   "source": []
  }
 ],
 "metadata": {
  "kernelspec": {
   "display_name": "Python 3",
   "language": "python",
   "name": "python3"
  },
  "language_info": {
   "codemirror_mode": {
    "name": "ipython",
    "version": 3
   },
   "file_extension": ".py",
   "mimetype": "text/x-python",
   "name": "python",
   "nbconvert_exporter": "python",
   "pygments_lexer": "ipython3",
   "version": "3.8.3"
  }
 },
 "nbformat": 4,
 "nbformat_minor": 4
}
